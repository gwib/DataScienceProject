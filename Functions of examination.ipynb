{
 "cells": [
  {
   "cell_type": "code",
   "execution_count": 1,
   "metadata": {
    "collapsed": true
   },
   "outputs": [],
   "source": [
    "import pandas as pd\n",
    "import numpy as np\n",
    "import matplotlib.pyplot as plt\n",
    "import datetime as dt\n",
    "import random\n",
    "from matplotlib import colors as mcolors\n",
    "from sklearn.cluster import KMeans\n",
    "from sklearn.metrics.pairwise import pairwise_distances\n",
    "from sklearn.metrics import silhouette_score\n",
    "from scipy.spatial import distance\n",
    "from sklearn.ensemble import RandomForestClassifier\n",
    "%matplotlib inline"
   ]
  },
  {
   "cell_type": "code",
   "execution_count": 2,
   "metadata": {
    "collapsed": true
   },
   "outputs": [],
   "source": [
    "# functions needed for data prep\n",
    "\n",
    "def time_of_day(hour):\n",
    "    if hour<6:\n",
    "        return \"night\"\n",
    "    elif hour<10:\n",
    "        return \"morning rush\"\n",
    "    elif hour<16:\n",
    "        return \"daytime\"\n",
    "    elif hour<19:\n",
    "        return \"evening_rush\"\n",
    "    else:\n",
    "        return \"night\"\n",
    "    \n",
    "def checkWeekday(day):\n",
    "    n = day.isoweekday()\n",
    "    if n<6:\n",
    "        return 1\n",
    "    else:\n",
    "        return 0"
   ]
  },
  {
   "cell_type": "code",
   "execution_count": 3,
   "metadata": {
    "collapsed": true
   },
   "outputs": [],
   "source": [
    "def importAndPrepareData(filepath):\n",
    "    # check if tsv or csv\n",
    "    impdf = pd.read_csv(filepath, delimiter=',')\n",
    "    datetimeCol = [col for col in impdf.columns if 'datetime' in col]\n",
    "    impdf['datetime'] = impdf[datetimeCol[0]].apply(lambda x: dt.datetime.strptime(x, \"%Y-%m-%d %H:%M:%S\"))\n",
    "    impdf = impdf.set_index('datetime')\n",
    "    impdf = impdf.reset_index()\n",
    "    \n",
    "    # more general lat and lon column names\n",
    "    lonCol = [col for col in impdf.columns if 'longitude' in col]\n",
    "    impdf['lon'] = impdf[lonCol[0]]\n",
    "    latCol = [col for col in impdf.columns if 'latitude' in col]\n",
    "    impdf['lat'] = impdf[latCol]\n",
    "    \n",
    "    # weekday or weekend-day?\n",
    "    impdf['weekday'] = [checkWeekday(x) for x in impdf['datetime']]\n",
    "    #TODO: add column saying if this day is an event day or not\n",
    "    \n",
    "    # assign time of day to each row\n",
    "    impdf['time_of_day'] = [time_of_day(x) for x in impdf['datetime'].dt.hour]\n",
    "    \n",
    "    # collect coordinates in one column\n",
    "    impdf['location'] = np.nan\n",
    "    loc = []\n",
    "    for i in range(len(impdf['lat'].values)):\n",
    "        loc.append((impdf['lon'].values[i], impdf['lat'].values[i]))\n",
    "    impdf['location'] = loc\n",
    "    \n",
    "    randomCol = [col for col in impdf.columns if 'Unnamed' in col]\n",
    "    for rc in randomCol: del impdf[rc]\n",
    "\n",
    "    return impdf"
   ]
  },
  {
   "cell_type": "code",
   "execution_count": 4,
   "metadata": {
    "collapsed": true
   },
   "outputs": [],
   "source": [
    "pickupDF = importAndPrepareData('Pickups_Brooklyn_June.csv')"
   ]
  },
  {
   "cell_type": "code",
   "execution_count": 5,
   "metadata": {},
   "outputs": [
    {
     "data": {
      "text/html": [
       "<div>\n",
       "<style>\n",
       "    .dataframe thead tr:only-child th {\n",
       "        text-align: right;\n",
       "    }\n",
       "\n",
       "    .dataframe thead th {\n",
       "        text-align: left;\n",
       "    }\n",
       "\n",
       "    .dataframe tbody tr th {\n",
       "        vertical-align: top;\n",
       "    }\n",
       "</style>\n",
       "<table border=\"1\" class=\"dataframe\">\n",
       "  <thead>\n",
       "    <tr style=\"text-align: right;\">\n",
       "      <th></th>\n",
       "      <th>datetime</th>\n",
       "      <th>pickup_datetime</th>\n",
       "      <th>pickup_longitude</th>\n",
       "      <th>pickup_latitude</th>\n",
       "      <th>payment_type</th>\n",
       "      <th>fare_amount</th>\n",
       "      <th>tip_amount</th>\n",
       "      <th>tolls_amount</th>\n",
       "      <th>total_amount</th>\n",
       "      <th>passenger_count</th>\n",
       "      <th>trip_distance</th>\n",
       "      <th>lon</th>\n",
       "      <th>lat</th>\n",
       "      <th>weekday</th>\n",
       "      <th>time_of_day</th>\n",
       "      <th>location</th>\n",
       "    </tr>\n",
       "  </thead>\n",
       "  <tbody>\n",
       "    <tr>\n",
       "      <th>0</th>\n",
       "      <td>2016-06-09 21:06:38</td>\n",
       "      <td>2016-06-09 21:06:38</td>\n",
       "      <td>-74.016121</td>\n",
       "      <td>40.710899</td>\n",
       "      <td>1</td>\n",
       "      <td>5.0</td>\n",
       "      <td>2.00</td>\n",
       "      <td>0.0</td>\n",
       "      <td>8.30</td>\n",
       "      <td>1</td>\n",
       "      <td>0.70</td>\n",
       "      <td>-74.016121</td>\n",
       "      <td>40.710899</td>\n",
       "      <td>1</td>\n",
       "      <td>night</td>\n",
       "      <td>(-74.0161209106, 40.710899353)</td>\n",
       "    </tr>\n",
       "    <tr>\n",
       "      <th>1</th>\n",
       "      <td>2016-06-09 21:09:53</td>\n",
       "      <td>2016-06-09 21:09:53</td>\n",
       "      <td>-74.008247</td>\n",
       "      <td>40.711269</td>\n",
       "      <td>1</td>\n",
       "      <td>10.0</td>\n",
       "      <td>3.39</td>\n",
       "      <td>0.0</td>\n",
       "      <td>14.69</td>\n",
       "      <td>1</td>\n",
       "      <td>2.02</td>\n",
       "      <td>-74.008247</td>\n",
       "      <td>40.711269</td>\n",
       "      <td>1</td>\n",
       "      <td>night</td>\n",
       "      <td>(-74.0082473755, 40.7112693787)</td>\n",
       "    </tr>\n",
       "    <tr>\n",
       "      <th>2</th>\n",
       "      <td>2016-06-09 21:09:55</td>\n",
       "      <td>2016-06-09 21:09:55</td>\n",
       "      <td>-74.016251</td>\n",
       "      <td>40.711048</td>\n",
       "      <td>1</td>\n",
       "      <td>19.0</td>\n",
       "      <td>4.06</td>\n",
       "      <td>0.0</td>\n",
       "      <td>24.36</td>\n",
       "      <td>1</td>\n",
       "      <td>5.56</td>\n",
       "      <td>-74.016251</td>\n",
       "      <td>40.711048</td>\n",
       "      <td>1</td>\n",
       "      <td>night</td>\n",
       "      <td>(-74.0162506104, 40.7110481262)</td>\n",
       "    </tr>\n",
       "    <tr>\n",
       "      <th>3</th>\n",
       "      <td>2016-06-09 21:06:00</td>\n",
       "      <td>2016-06-09 21:06:00</td>\n",
       "      <td>-74.003128</td>\n",
       "      <td>40.706345</td>\n",
       "      <td>1</td>\n",
       "      <td>20.0</td>\n",
       "      <td>2.20</td>\n",
       "      <td>0.0</td>\n",
       "      <td>23.50</td>\n",
       "      <td>1</td>\n",
       "      <td>4.20</td>\n",
       "      <td>-74.003128</td>\n",
       "      <td>40.706345</td>\n",
       "      <td>1</td>\n",
       "      <td>night</td>\n",
       "      <td>(-74.0031280518, 40.7063446045)</td>\n",
       "    </tr>\n",
       "    <tr>\n",
       "      <th>4</th>\n",
       "      <td>2016-06-09 21:06:02</td>\n",
       "      <td>2016-06-09 21:06:02</td>\n",
       "      <td>-73.987724</td>\n",
       "      <td>40.700386</td>\n",
       "      <td>1</td>\n",
       "      <td>11.5</td>\n",
       "      <td>1.00</td>\n",
       "      <td>0.0</td>\n",
       "      <td>13.80</td>\n",
       "      <td>1</td>\n",
       "      <td>2.30</td>\n",
       "      <td>-73.987724</td>\n",
       "      <td>40.700386</td>\n",
       "      <td>1</td>\n",
       "      <td>night</td>\n",
       "      <td>(-73.9877243042, 40.7003860474)</td>\n",
       "    </tr>\n",
       "  </tbody>\n",
       "</table>\n",
       "</div>"
      ],
      "text/plain": [
       "             datetime      pickup_datetime  pickup_longitude  pickup_latitude  \\\n",
       "0 2016-06-09 21:06:38  2016-06-09 21:06:38        -74.016121        40.710899   \n",
       "1 2016-06-09 21:09:53  2016-06-09 21:09:53        -74.008247        40.711269   \n",
       "2 2016-06-09 21:09:55  2016-06-09 21:09:55        -74.016251        40.711048   \n",
       "3 2016-06-09 21:06:00  2016-06-09 21:06:00        -74.003128        40.706345   \n",
       "4 2016-06-09 21:06:02  2016-06-09 21:06:02        -73.987724        40.700386   \n",
       "\n",
       "   payment_type  fare_amount  tip_amount  tolls_amount  total_amount  \\\n",
       "0             1          5.0        2.00           0.0          8.30   \n",
       "1             1         10.0        3.39           0.0         14.69   \n",
       "2             1         19.0        4.06           0.0         24.36   \n",
       "3             1         20.0        2.20           0.0         23.50   \n",
       "4             1         11.5        1.00           0.0         13.80   \n",
       "\n",
       "   passenger_count  trip_distance        lon        lat  weekday time_of_day  \\\n",
       "0                1           0.70 -74.016121  40.710899        1       night   \n",
       "1                1           2.02 -74.008247  40.711269        1       night   \n",
       "2                1           5.56 -74.016251  40.711048        1       night   \n",
       "3                1           4.20 -74.003128  40.706345        1       night   \n",
       "4                1           2.30 -73.987724  40.700386        1       night   \n",
       "\n",
       "                          location  \n",
       "0   (-74.0161209106, 40.710899353)  \n",
       "1  (-74.0082473755, 40.7112693787)  \n",
       "2  (-74.0162506104, 40.7110481262)  \n",
       "3  (-74.0031280518, 40.7063446045)  \n",
       "4  (-73.9877243042, 40.7003860474)  "
      ]
     },
     "execution_count": 5,
     "metadata": {},
     "output_type": "execute_result"
    }
   ],
   "source": [
    "pickupDF.head()"
   ]
  },
  {
   "cell_type": "code",
   "execution_count": null,
   "metadata": {
    "collapsed": true
   },
   "outputs": [],
   "source": []
  },
  {
   "cell_type": "code",
   "execution_count": null,
   "metadata": {
    "collapsed": true
   },
   "outputs": [],
   "source": []
  },
  {
   "cell_type": "code",
   "execution_count": 6,
   "metadata": {
    "collapsed": true
   },
   "outputs": [],
   "source": [
    "dropoffDF = importAndPrepareData('Dropoffs_Brooklyn_June.csv')"
   ]
  },
  {
   "cell_type": "code",
   "execution_count": 7,
   "metadata": {},
   "outputs": [
    {
     "data": {
      "text/html": [
       "<div>\n",
       "<style>\n",
       "    .dataframe thead tr:only-child th {\n",
       "        text-align: right;\n",
       "    }\n",
       "\n",
       "    .dataframe thead th {\n",
       "        text-align: left;\n",
       "    }\n",
       "\n",
       "    .dataframe tbody tr th {\n",
       "        vertical-align: top;\n",
       "    }\n",
       "</style>\n",
       "<table border=\"1\" class=\"dataframe\">\n",
       "  <thead>\n",
       "    <tr style=\"text-align: right;\">\n",
       "      <th></th>\n",
       "      <th>datetime</th>\n",
       "      <th>dropoff_datetime</th>\n",
       "      <th>dropoff_longitude</th>\n",
       "      <th>dropoff_latitude</th>\n",
       "      <th>payment_type</th>\n",
       "      <th>fare_amount</th>\n",
       "      <th>tip_amount</th>\n",
       "      <th>tolls_amount</th>\n",
       "      <th>total_amount</th>\n",
       "      <th>passenger_count</th>\n",
       "      <th>trip_distance</th>\n",
       "      <th>lon</th>\n",
       "      <th>lat</th>\n",
       "      <th>weekday</th>\n",
       "      <th>time_of_day</th>\n",
       "      <th>location</th>\n",
       "    </tr>\n",
       "  </thead>\n",
       "  <tbody>\n",
       "    <tr>\n",
       "      <th>0</th>\n",
       "      <td>2016-06-09 21:35:11</td>\n",
       "      <td>2016-06-09 21:35:11</td>\n",
       "      <td>-73.981636</td>\n",
       "      <td>40.670242</td>\n",
       "      <td>1</td>\n",
       "      <td>22.0</td>\n",
       "      <td>4.00</td>\n",
       "      <td>0.0</td>\n",
       "      <td>27.30</td>\n",
       "      <td>1</td>\n",
       "      <td>5.22</td>\n",
       "      <td>-73.981636</td>\n",
       "      <td>40.670242</td>\n",
       "      <td>1</td>\n",
       "      <td>night</td>\n",
       "      <td>(-73.9816360474, 40.6702423096)</td>\n",
       "    </tr>\n",
       "    <tr>\n",
       "      <th>1</th>\n",
       "      <td>2016-06-09 21:23:55</td>\n",
       "      <td>2016-06-09 21:23:55</td>\n",
       "      <td>-74.011986</td>\n",
       "      <td>40.703773</td>\n",
       "      <td>1</td>\n",
       "      <td>17.0</td>\n",
       "      <td>3.65</td>\n",
       "      <td>0.0</td>\n",
       "      <td>21.95</td>\n",
       "      <td>1</td>\n",
       "      <td>5.10</td>\n",
       "      <td>-74.011986</td>\n",
       "      <td>40.703773</td>\n",
       "      <td>1</td>\n",
       "      <td>night</td>\n",
       "      <td>(-74.0119857788, 40.7037734985)</td>\n",
       "    </tr>\n",
       "    <tr>\n",
       "      <th>2</th>\n",
       "      <td>2016-06-09 21:34:55</td>\n",
       "      <td>2016-06-09 21:34:55</td>\n",
       "      <td>-73.993607</td>\n",
       "      <td>40.666752</td>\n",
       "      <td>1</td>\n",
       "      <td>20.5</td>\n",
       "      <td>2.50</td>\n",
       "      <td>0.0</td>\n",
       "      <td>24.30</td>\n",
       "      <td>1</td>\n",
       "      <td>5.60</td>\n",
       "      <td>-73.993607</td>\n",
       "      <td>40.666752</td>\n",
       "      <td>1</td>\n",
       "      <td>night</td>\n",
       "      <td>(-73.9936065674, 40.6667518616)</td>\n",
       "    </tr>\n",
       "    <tr>\n",
       "      <th>3</th>\n",
       "      <td>2016-06-09 21:22:19</td>\n",
       "      <td>2016-06-09 21:22:19</td>\n",
       "      <td>-73.983871</td>\n",
       "      <td>40.693539</td>\n",
       "      <td>1</td>\n",
       "      <td>10.0</td>\n",
       "      <td>3.39</td>\n",
       "      <td>0.0</td>\n",
       "      <td>14.69</td>\n",
       "      <td>1</td>\n",
       "      <td>2.02</td>\n",
       "      <td>-73.983871</td>\n",
       "      <td>40.693539</td>\n",
       "      <td>1</td>\n",
       "      <td>night</td>\n",
       "      <td>(-73.98387146, 40.6935386658)</td>\n",
       "    </tr>\n",
       "    <tr>\n",
       "      <th>4</th>\n",
       "      <td>2016-06-09 21:36:56</td>\n",
       "      <td>2016-06-09 21:36:56</td>\n",
       "      <td>-73.989677</td>\n",
       "      <td>40.703846</td>\n",
       "      <td>1</td>\n",
       "      <td>21.0</td>\n",
       "      <td>2.50</td>\n",
       "      <td>0.0</td>\n",
       "      <td>24.80</td>\n",
       "      <td>1</td>\n",
       "      <td>6.01</td>\n",
       "      <td>-73.989677</td>\n",
       "      <td>40.703846</td>\n",
       "      <td>1</td>\n",
       "      <td>night</td>\n",
       "      <td>(-73.9896774292, 40.7038459778)</td>\n",
       "    </tr>\n",
       "  </tbody>\n",
       "</table>\n",
       "</div>"
      ],
      "text/plain": [
       "             datetime     dropoff_datetime  dropoff_longitude  \\\n",
       "0 2016-06-09 21:35:11  2016-06-09 21:35:11         -73.981636   \n",
       "1 2016-06-09 21:23:55  2016-06-09 21:23:55         -74.011986   \n",
       "2 2016-06-09 21:34:55  2016-06-09 21:34:55         -73.993607   \n",
       "3 2016-06-09 21:22:19  2016-06-09 21:22:19         -73.983871   \n",
       "4 2016-06-09 21:36:56  2016-06-09 21:36:56         -73.989677   \n",
       "\n",
       "   dropoff_latitude  payment_type  fare_amount  tip_amount  tolls_amount  \\\n",
       "0         40.670242             1         22.0        4.00           0.0   \n",
       "1         40.703773             1         17.0        3.65           0.0   \n",
       "2         40.666752             1         20.5        2.50           0.0   \n",
       "3         40.693539             1         10.0        3.39           0.0   \n",
       "4         40.703846             1         21.0        2.50           0.0   \n",
       "\n",
       "   total_amount  passenger_count  trip_distance        lon        lat  \\\n",
       "0         27.30                1           5.22 -73.981636  40.670242   \n",
       "1         21.95                1           5.10 -74.011986  40.703773   \n",
       "2         24.30                1           5.60 -73.993607  40.666752   \n",
       "3         14.69                1           2.02 -73.983871  40.693539   \n",
       "4         24.80                1           6.01 -73.989677  40.703846   \n",
       "\n",
       "   weekday time_of_day                         location  \n",
       "0        1       night  (-73.9816360474, 40.6702423096)  \n",
       "1        1       night  (-74.0119857788, 40.7037734985)  \n",
       "2        1       night  (-73.9936065674, 40.6667518616)  \n",
       "3        1       night    (-73.98387146, 40.6935386658)  \n",
       "4        1       night  (-73.9896774292, 40.7038459778)  "
      ]
     },
     "execution_count": 7,
     "metadata": {},
     "output_type": "execute_result"
    }
   ],
   "source": [
    "dropoffDF.head()"
   ]
  },
  {
   "cell_type": "code",
   "execution_count": 8,
   "metadata": {
    "collapsed": true
   },
   "outputs": [],
   "source": [
    "def kmeansSilhouette(df):\n",
    "    sampledf = df.sample(n=1000)\n",
    "    coords = []\n",
    "    for i in range(len(sampledf['lon'].values)):\n",
    "        coords.append([sampledf['lon'].values[i], sampledf['lat'].values[i]])\n",
    "    pwdist = pairwise_distances(coords)\n",
    "    silhouette_avg = silhouette_score(pwdist, sampledf['kmeans_cluster'], metric=\"precomputed\")\n",
    "    return silhouette_avg\n",
    "\n",
    "\n",
    "def kmeansOnLocation(df, k=5):\n",
    "    #perform kmeans\n",
    "    K_allData = k\n",
    "    k_allData = KMeans(K_allData)\n",
    "    k_allData.fit(df[['lat', 'lon']])\n",
    "    \n",
    "    # new column in dataframe for location cluster\n",
    "    df['kmeans_cluster'] = k_allData.labels_\n",
    "    \n",
    "    # computing and printing the score of the clustering\n",
    "    print('------Scores of K-Mean Clustering on dataframe ----------\\n'+'silhouette:'+str(kmeansSilhouette(df))+\n",
    "    '\\n'+'distortion: '+str(k_allData.inertia_))\n",
    "    \n",
    "    return df, k_allData # returns df with added column from clustering\n",
    "    \n",
    "\n",
    "def plotClusters(df, clusterCol='kmeans_cluster'):\n",
    "    num_colors=len(set(df[clusterCol].values))\n",
    "    colors=list(mcolors.CSS4_COLORS.keys())  #found this by searching \"python color list\"\n",
    "    cluster_colors=random.choices(colors, k=num_colors)\n",
    "    print(cluster_colors)\n",
    "    x_=[]\n",
    "    y_=[]\n",
    "    c_=[]\n",
    "    for label, x, y in zip(df[clusterCol].values, df['lon'].values, df['lat'].values):\n",
    "        if label==-1:\n",
    "            continue\n",
    "        x_.append(x)\n",
    "        y_.append(y)\n",
    "        c_.append(cluster_colors[label])\n",
    "        #plt.figure(figsize=(18, 12))\n",
    "    plt.scatter(x_,y_,s=0.3,c=c_)"
   ]
  },
  {
   "cell_type": "code",
   "execution_count": null,
   "metadata": {
    "collapsed": true
   },
   "outputs": [],
   "source": []
  },
  {
   "cell_type": "code",
   "execution_count": 9,
   "metadata": {},
   "outputs": [
    {
     "name": "stdout",
     "output_type": "stream",
     "text": [
      "------Scores of K-Mean Clustering on dataframe ----------\n",
      "silhouette:0.622601699973\n",
      "distortion: 26.9042022349\n"
     ]
    }
   ],
   "source": [
    "pickupDF, kPickup = kmeansOnLocation(pickupDF)"
   ]
  },
  {
   "cell_type": "code",
   "execution_count": 10,
   "metadata": {},
   "outputs": [
    {
     "name": "stdout",
     "output_type": "stream",
     "text": [
      "['lemonchiffon', 'white', 'mediumpurple', 'aqua', 'papayawhip']\n"
     ]
    },
    {
     "data": {
      "image/png": "[encoded data removed]",
      "text/plain": [
       "<matplotlib.figure.Figure at 0x1041f9e80>"
      ]
     },
     "metadata": {},
     "output_type": "display_data"
    }
   ],
   "source": [
    "plotClusters(pickupDF)"
   ]
  },
  {
   "cell_type": "code",
   "execution_count": null,
   "metadata": {
    "collapsed": true
   },
   "outputs": [],
   "source": []
  },
  {
   "cell_type": "code",
   "execution_count": 11,
   "metadata": {},
   "outputs": [
    {
     "name": "stdout",
     "output_type": "stream",
     "text": [
      "------Scores of K-Mean Clustering on dataframe ----------\n",
      "silhouette:0.514568617582\n",
      "distortion: 86.102812462\n",
      "['lightcoral', 'lavender', 'darkgray', 'seashell', 'crimson']\n"
     ]
    },
    {
     "data": {
      "image/png": "[encoded data removed]",
      "text/plain": [
       "<matplotlib.figure.Figure at 0x1a09d37b70>"
      ]
     },
     "metadata": {},
     "output_type": "display_data"
    }
   ],
   "source": [
    "dropoffDF, kdropoff = kmeansOnLocation(dropoffDF)\n",
    "plotClusters(dropoffDF)"
   ]
  },
  {
   "cell_type": "code",
   "execution_count": 12,
   "metadata": {},
   "outputs": [
    {
     "data": {
      "text/html": [
       "<div>\n",
       "<style>\n",
       "    .dataframe thead tr:only-child th {\n",
       "        text-align: right;\n",
       "    }\n",
       "\n",
       "    .dataframe thead th {\n",
       "        text-align: left;\n",
       "    }\n",
       "\n",
       "    .dataframe tbody tr th {\n",
       "        vertical-align: top;\n",
       "    }\n",
       "</style>\n",
       "<table border=\"1\" class=\"dataframe\">\n",
       "  <thead>\n",
       "    <tr style=\"text-align: right;\">\n",
       "      <th></th>\n",
       "      <th>datetime</th>\n",
       "      <th>dropoff_datetime</th>\n",
       "      <th>dropoff_longitude</th>\n",
       "      <th>dropoff_latitude</th>\n",
       "      <th>payment_type</th>\n",
       "      <th>fare_amount</th>\n",
       "      <th>tip_amount</th>\n",
       "      <th>tolls_amount</th>\n",
       "      <th>total_amount</th>\n",
       "      <th>passenger_count</th>\n",
       "      <th>trip_distance</th>\n",
       "      <th>lon</th>\n",
       "      <th>lat</th>\n",
       "      <th>weekday</th>\n",
       "      <th>time_of_day</th>\n",
       "      <th>location</th>\n",
       "      <th>kmeans_cluster</th>\n",
       "    </tr>\n",
       "  </thead>\n",
       "  <tbody>\n",
       "    <tr>\n",
       "      <th>0</th>\n",
       "      <td>2016-06-09 21:35:11</td>\n",
       "      <td>2016-06-09 21:35:11</td>\n",
       "      <td>-73.981636</td>\n",
       "      <td>40.670242</td>\n",
       "      <td>1</td>\n",
       "      <td>22.0</td>\n",
       "      <td>4.00</td>\n",
       "      <td>0.0</td>\n",
       "      <td>27.30</td>\n",
       "      <td>1</td>\n",
       "      <td>5.22</td>\n",
       "      <td>-73.981636</td>\n",
       "      <td>40.670242</td>\n",
       "      <td>1</td>\n",
       "      <td>night</td>\n",
       "      <td>(-73.9816360474, 40.6702423096)</td>\n",
       "      <td>4</td>\n",
       "    </tr>\n",
       "    <tr>\n",
       "      <th>1</th>\n",
       "      <td>2016-06-09 21:23:55</td>\n",
       "      <td>2016-06-09 21:23:55</td>\n",
       "      <td>-74.011986</td>\n",
       "      <td>40.703773</td>\n",
       "      <td>1</td>\n",
       "      <td>17.0</td>\n",
       "      <td>3.65</td>\n",
       "      <td>0.0</td>\n",
       "      <td>21.95</td>\n",
       "      <td>1</td>\n",
       "      <td>5.10</td>\n",
       "      <td>-74.011986</td>\n",
       "      <td>40.703773</td>\n",
       "      <td>1</td>\n",
       "      <td>night</td>\n",
       "      <td>(-74.0119857788, 40.7037734985)</td>\n",
       "      <td>0</td>\n",
       "    </tr>\n",
       "    <tr>\n",
       "      <th>2</th>\n",
       "      <td>2016-06-09 21:34:55</td>\n",
       "      <td>2016-06-09 21:34:55</td>\n",
       "      <td>-73.993607</td>\n",
       "      <td>40.666752</td>\n",
       "      <td>1</td>\n",
       "      <td>20.5</td>\n",
       "      <td>2.50</td>\n",
       "      <td>0.0</td>\n",
       "      <td>24.30</td>\n",
       "      <td>1</td>\n",
       "      <td>5.60</td>\n",
       "      <td>-73.993607</td>\n",
       "      <td>40.666752</td>\n",
       "      <td>1</td>\n",
       "      <td>night</td>\n",
       "      <td>(-73.9936065674, 40.6667518616)</td>\n",
       "      <td>4</td>\n",
       "    </tr>\n",
       "    <tr>\n",
       "      <th>3</th>\n",
       "      <td>2016-06-09 21:22:19</td>\n",
       "      <td>2016-06-09 21:22:19</td>\n",
       "      <td>-73.983871</td>\n",
       "      <td>40.693539</td>\n",
       "      <td>1</td>\n",
       "      <td>10.0</td>\n",
       "      <td>3.39</td>\n",
       "      <td>0.0</td>\n",
       "      <td>14.69</td>\n",
       "      <td>1</td>\n",
       "      <td>2.02</td>\n",
       "      <td>-73.983871</td>\n",
       "      <td>40.693539</td>\n",
       "      <td>1</td>\n",
       "      <td>night</td>\n",
       "      <td>(-73.98387146, 40.6935386658)</td>\n",
       "      <td>2</td>\n",
       "    </tr>\n",
       "    <tr>\n",
       "      <th>4</th>\n",
       "      <td>2016-06-09 21:36:56</td>\n",
       "      <td>2016-06-09 21:36:56</td>\n",
       "      <td>-73.989677</td>\n",
       "      <td>40.703846</td>\n",
       "      <td>1</td>\n",
       "      <td>21.0</td>\n",
       "      <td>2.50</td>\n",
       "      <td>0.0</td>\n",
       "      <td>24.80</td>\n",
       "      <td>1</td>\n",
       "      <td>6.01</td>\n",
       "      <td>-73.989677</td>\n",
       "      <td>40.703846</td>\n",
       "      <td>1</td>\n",
       "      <td>night</td>\n",
       "      <td>(-73.9896774292, 40.7038459778)</td>\n",
       "      <td>2</td>\n",
       "    </tr>\n",
       "  </tbody>\n",
       "</table>\n",
       "</div>"
      ],
      "text/plain": [
       "             datetime     dropoff_datetime  dropoff_longitude  \\\n",
       "0 2016-06-09 21:35:11  2016-06-09 21:35:11         -73.981636   \n",
       "1 2016-06-09 21:23:55  2016-06-09 21:23:55         -74.011986   \n",
       "2 2016-06-09 21:34:55  2016-06-09 21:34:55         -73.993607   \n",
       "3 2016-06-09 21:22:19  2016-06-09 21:22:19         -73.983871   \n",
       "4 2016-06-09 21:36:56  2016-06-09 21:36:56         -73.989677   \n",
       "\n",
       "   dropoff_latitude  payment_type  fare_amount  tip_amount  tolls_amount  \\\n",
       "0         40.670242             1         22.0        4.00           0.0   \n",
       "1         40.703773             1         17.0        3.65           0.0   \n",
       "2         40.666752             1         20.5        2.50           0.0   \n",
       "3         40.693539             1         10.0        3.39           0.0   \n",
       "4         40.703846             1         21.0        2.50           0.0   \n",
       "\n",
       "   total_amount  passenger_count  trip_distance        lon        lat  \\\n",
       "0         27.30                1           5.22 -73.981636  40.670242   \n",
       "1         21.95                1           5.10 -74.011986  40.703773   \n",
       "2         24.30                1           5.60 -73.993607  40.666752   \n",
       "3         14.69                1           2.02 -73.983871  40.693539   \n",
       "4         24.80                1           6.01 -73.989677  40.703846   \n",
       "\n",
       "   weekday time_of_day                         location  kmeans_cluster  \n",
       "0        1       night  (-73.9816360474, 40.6702423096)               4  \n",
       "1        1       night  (-74.0119857788, 40.7037734985)               0  \n",
       "2        1       night  (-73.9936065674, 40.6667518616)               4  \n",
       "3        1       night    (-73.98387146, 40.6935386658)               2  \n",
       "4        1       night  (-73.9896774292, 40.7038459778)               2  "
      ]
     },
     "execution_count": 12,
     "metadata": {},
     "output_type": "execute_result"
    }
   ],
   "source": [
    "dropoffDF.head()"
   ]
  },
  {
   "cell_type": "code",
   "execution_count": 13,
   "metadata": {
    "collapsed": true
   },
   "outputs": [],
   "source": [
    "def calculateTipsPerc(fare, tips):\n",
    "    return tips/fare\n",
    "\n",
    "def classifyTips(tipPerc):\n",
    "    if tipPerc <= 0.05:\n",
    "        return 1\n",
    "    elif tipPerc <= 0.1:\n",
    "        return 2\n",
    "    elif tipPerc <= 0.15:\n",
    "        return 3\n",
    "    elif tipPerc <= 0.2:\n",
    "        return 4\n",
    "    elif tipPerc <= 0.25:\n",
    "        return 5\n",
    "    elif tipPerc <= 0.3:\n",
    "        return 6\n",
    "    elif tipPerc <= 0.35:\n",
    "        return 7\n",
    "    else:\n",
    "        return 8\n",
    "\n",
    "def tipPreparation(df):\n",
    "    # preparing data frame for analysis: removing negative and 0 fare_amounts\n",
    "    df = df[df['fare_amount'] >0]\n",
    "    \n",
    "    # creating tip column percentage\n",
    "    tipsPerc = []\n",
    "    for x, y in zip(df['fare_amount'].values, df['tip_amount'].values):\n",
    "        tipsPerc.append(round(calculateTipsPerc(x, y), 2))\n",
    "    \n",
    "    #df['tips_perc'] = np.nan\n",
    "    df['tips_perc'] = tipsPerc\n",
    "    df['tipClass'] = [classifyTips(x) for x in df['tips_perc'].values]\n",
    "    \n",
    "    # remove tips-perc that were more than 100%\n",
    "    df = df[df['tips_perc'] <1]\n",
    "    return df\n",
    "\n",
    "def tipsHistPlot(df, col='tips_perc'):\n",
    "    fig = plt.figure()\n",
    "    ax = fig.gca()\n",
    "    ax.set_xticks(np.arange(0, 1, 0.1))\n",
    "    ax.set_yticks(np.arange(0, 160000, 20000))\n",
    "    plt.hist(df[col], bins=20)\n",
    "    plt.grid()\n",
    "    plt.show()"
   ]
  },
  {
   "cell_type": "code",
   "execution_count": null,
   "metadata": {
    "collapsed": true
   },
   "outputs": [],
   "source": []
  },
  {
   "cell_type": "code",
   "execution_count": 14,
   "metadata": {},
   "outputs": [
    {
     "name": "stderr",
     "output_type": "stream",
     "text": [
      "/Users/GalinaJonat/anaconda/lib/python3.6/site-packages/ipykernel_launcher.py:32: SettingWithCopyWarning: \n",
      "A value is trying to be set on a copy of a slice from a DataFrame.\n",
      "Try using .loc[row_indexer,col_indexer] = value instead\n",
      "\n",
      "See the caveats in the documentation: http://pandas.pydata.org/pandas-docs/stable/indexing.html#indexing-view-versus-copy\n",
      "/Users/GalinaJonat/anaconda/lib/python3.6/site-packages/ipykernel_launcher.py:33: SettingWithCopyWarning: \n",
      "A value is trying to be set on a copy of a slice from a DataFrame.\n",
      "Try using .loc[row_indexer,col_indexer] = value instead\n",
      "\n",
      "See the caveats in the documentation: http://pandas.pydata.org/pandas-docs/stable/indexing.html#indexing-view-versus-copy\n"
     ]
    }
   ],
   "source": [
    "pickupDF = tipPreparation(pickupDF)"
   ]
  },
  {
   "cell_type": "code",
   "execution_count": 15,
   "metadata": {},
   "outputs": [
    {
     "data": {
      "image/png": "[encoded data removed]",
      "text/plain": [
       "<matplotlib.figure.Figure at 0x1a0a389400>"
      ]
     },
     "metadata": {},
     "output_type": "display_data"
    }
   ],
   "source": [
    "tipsHistPlot(pickupDF)"
   ]
  },
  {
   "cell_type": "code",
   "execution_count": 16,
   "metadata": {},
   "outputs": [
    {
     "data": {
      "text/plain": [
       "(array([ 154056.,   17845.,   27559.,       0.,   24188.,  137620.,\n",
       "              0.,   35108.,   14104.,    5107.]),\n",
       " array([ 1. ,  1.7,  2.4,  3.1,  3.8,  4.5,  5.2,  5.9,  6.6,  7.3,  8. ]),\n",
       " <a list of 10 Patch objects>)"
      ]
     },
     "execution_count": 16,
     "metadata": {},
     "output_type": "execute_result"
    },
    {
     "data": {
      "image/png": "[encoded data removed]",
      "text/plain": [
       "<matplotlib.figure.Figure at 0x1a0a389320>"
      ]
     },
     "metadata": {},
     "output_type": "display_data"
    }
   ],
   "source": [
    "plt.hist(pickupDF['tipClass'])"
   ]
  },
  {
   "cell_type": "code",
   "execution_count": 17,
   "metadata": {},
   "outputs": [
    {
     "data": {
      "text/plain": [
       "Index(['datetime', 'pickup_datetime', 'pickup_longitude', 'pickup_latitude',\n",
       "       'payment_type', 'fare_amount', 'tip_amount', 'tolls_amount',\n",
       "       'total_amount', 'passenger_count', 'trip_distance', 'lon', 'lat',\n",
       "       'weekday', 'time_of_day', 'location', 'kmeans_cluster', 'tips_perc',\n",
       "       'tipClass'],\n",
       "      dtype='object')"
      ]
     },
     "execution_count": 17,
     "metadata": {},
     "output_type": "execute_result"
    }
   ],
   "source": [
    "pickupDF.columns"
   ]
  },
  {
   "cell_type": "code",
   "execution_count": 18,
   "metadata": {},
   "outputs": [
    {
     "name": "stdout",
     "output_type": "stream",
     "text": [
      "1040523000000000 nanoseconds\n",
      "12.0\n",
      "2016-06-09T21:06:38.000000000\n",
      "2016-06-21T22:08:41.000000000\n",
      "<class 'numpy.timedelta64'>\n"
     ]
    }
   ],
   "source": [
    "dt0 = pickupDF['datetime'].values[0]\n",
    "dt1 = pickupDF['datetime'].values[415586]\n",
    "\n",
    "x = dt1-dt0\n",
    "print(x)\n",
    "days = x.astype('timedelta64[D]')\n",
    "d = days / np.timedelta64(1, 'D')\n",
    "print (d)\n",
    "print(dt0)\n",
    "print(dt1)\n",
    "print(type(x))"
   ]
  },
  {
   "cell_type": "code",
   "execution_count": 19,
   "metadata": {},
   "outputs": [
    {
     "data": {
      "text/plain": [
       "Index(['datetime', 'pickup_datetime', 'pickup_longitude', 'pickup_latitude',\n",
       "       'fare_amount', 'tip_amount', 'tolls_amount', 'total_amount',\n",
       "       'trip_distance', 'lon', 'lat', 'location', 'tips_perc', 'tipClass',\n",
       "       'payment_type_1', 'payment_type_2', 'payment_type_3', 'payment_type_4',\n",
       "       'weekday_0', 'weekday_1', 'time_of_day_daytime',\n",
       "       'time_of_day_evening_rush', 'time_of_day_morning rush',\n",
       "       'time_of_day_night', 'kmeans_cluster_0', 'kmeans_cluster_1',\n",
       "       'kmeans_cluster_2', 'kmeans_cluster_3', 'kmeans_cluster_4',\n",
       "       'passenger_count_0', 'passenger_count_1', 'passenger_count_2',\n",
       "       'passenger_count_3', 'passenger_count_4', 'passenger_count_5',\n",
       "       'passenger_count_6', 'passenger_count_7', 'passenger_count_9'],\n",
       "      dtype='object')"
      ]
     },
     "execution_count": 19,
     "metadata": {},
     "output_type": "execute_result"
    }
   ],
   "source": [
    "dummyColNames = ['payment_type', 'weekday', 'time_of_day', 'kmeans_cluster', 'passenger_count']\n",
    "df_with_dummies = pd.get_dummies(pickupDF, columns=dummyColNames)\n",
    "df_with_dummies.columns"
   ]
  },
  {
   "cell_type": "code",
   "execution_count": 23,
   "metadata": {},
   "outputs": [
    {
     "data": {
      "text/plain": [
       "0    0.40\n",
       "1    0.34\n",
       "2    0.21\n",
       "3    0.11\n",
       "4    0.09\n",
       "Name: tips_perc, dtype: float64"
      ]
     },
     "execution_count": 23,
     "metadata": {},
     "output_type": "execute_result"
    }
   ],
   "source": [
    "df_with_dummies['tips_perc'].head()"
   ]
  },
  {
   "cell_type": "code",
   "execution_count": 24,
   "metadata": {
    "collapsed": true
   },
   "outputs": [],
   "source": [
    "def buildTipPredictionModel(df, alg='randomForest'):\n",
    "    modelCols = ['trip_distance']\n",
    "    modelCols.extend([col for col in df.columns if 'weekday_' in col])\n",
    "    modelCols.extend([col for col in df.columns if 'payment_type_' in col])\n",
    "    modelCols.extend([col for col in df.columns if 'passenger_count_' in col])\n",
    "    modelCols.extend([col for col in df.columns if 'kmeans_cluster_' in col])\n",
    "    modelCols.extend([col for col in df.columns if 'time_of_day_' in col])\n",
    "    \n",
    "    print(modelCols)\n",
    "    \n",
    "    \n",
    "    X = df[modelCols]\n",
    "    target = df['tipClass']\n",
    "    if alg=='randomForest':\n",
    "        rfc = RandomForestClassifier(max_depth=5)\n",
    "        rfc.fit(X, target)"
   ]
  },
  {
   "cell_type": "code",
   "execution_count": 25,
   "metadata": {},
   "outputs": [
    {
     "name": "stdout",
     "output_type": "stream",
     "text": [
      "['trip_distance', 'weekday_0', 'weekday_1', 'payment_type_1', 'payment_type_2', 'payment_type_3', 'payment_type_4', 'passenger_count_0', 'passenger_count_1', 'passenger_count_2', 'passenger_count_3', 'passenger_count_4', 'passenger_count_5', 'passenger_count_6', 'passenger_count_7', 'passenger_count_9', 'kmeans_cluster_0', 'kmeans_cluster_1', 'kmeans_cluster_2', 'kmeans_cluster_3', 'kmeans_cluster_4', 'time_of_day_daytime', 'time_of_day_evening_rush', 'time_of_day_morning rush', 'time_of_day_night']\n"
     ]
    }
   ],
   "source": [
    "buildTipPredictionModel(df_with_dummies)"
   ]
  },
  {
   "cell_type": "code",
   "execution_count": null,
   "metadata": {
    "collapsed": true
   },
   "outputs": [],
   "source": []
  },
  {
   "cell_type": "code",
   "execution_count": null,
   "metadata": {
    "collapsed": true
   },
   "outputs": [],
   "source": []
  }
 ],
 "metadata": {
  "kernelspec": {
   "display_name": "Python 3",
   "language": "python",
   "name": "python3"
  },
  "language_info": {
   "codemirror_mode": {
    "name": "ipython",
    "version": 3
   },
   "file_extension": ".py",
   "mimetype": "text/x-python",
   "name": "python",
   "nbconvert_exporter": "python",
   "pygments_lexer": "ipython3",
   "version": "3.6.3"
  }
 },
 "nbformat": 4,
 "nbformat_minor": 2
}
