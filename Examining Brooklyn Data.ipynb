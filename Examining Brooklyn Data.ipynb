{
 "cells": [
  {
   "cell_type": "code",
   "execution_count": 1,
   "metadata": {
    "collapsed": true
   },
   "outputs": [],
   "source": [
    "import pandas as pd\n",
    "import numpy as np\n",
    "import matplotlib.pyplot as plt\n",
    "import datetime as dt\n",
    "%matplotlib inline"
   ]
  },
  {
   "cell_type": "code",
   "execution_count": 2,
   "metadata": {
    "collapsed": true
   },
   "outputs": [],
   "source": [
    "pickups_brooklyn = pd.read_csv('Pickups_Brooklyn_June.csv', delimiter=',')\n",
    "pickups_brooklyn['pickup_datetime'] = pickups_brooklyn['pickup_datetime'].apply(lambda x: dt.datetime.strptime(x, \"%Y-%m-%d %H:%M:%S\"))"
   ]
  },
  {
   "cell_type": "code",
   "execution_count": 3,
   "metadata": {},
   "outputs": [
    {
     "data": {
      "text/html": [
       "<div>\n",
       "<style>\n",
       "    .dataframe thead tr:only-child th {\n",
       "        text-align: right;\n",
       "    }\n",
       "\n",
       "    .dataframe thead th {\n",
       "        text-align: left;\n",
       "    }\n",
       "\n",
       "    .dataframe tbody tr th {\n",
       "        vertical-align: top;\n",
       "    }\n",
       "</style>\n",
       "<table border=\"1\" class=\"dataframe\">\n",
       "  <thead>\n",
       "    <tr style=\"text-align: right;\">\n",
       "      <th></th>\n",
       "      <th>Unnamed: 0</th>\n",
       "      <th>pickup_datetime</th>\n",
       "      <th>pickup_longitude</th>\n",
       "      <th>pickup_latitude</th>\n",
       "      <th>payment_type</th>\n",
       "      <th>fare_amount</th>\n",
       "      <th>tip_amount</th>\n",
       "      <th>tolls_amount</th>\n",
       "      <th>total_amount</th>\n",
       "      <th>passenger_count</th>\n",
       "      <th>trip_distance</th>\n",
       "    </tr>\n",
       "  </thead>\n",
       "  <tbody>\n",
       "    <tr>\n",
       "      <th>0</th>\n",
       "      <td>20</td>\n",
       "      <td>2016-06-09 21:06:38</td>\n",
       "      <td>-74.016121</td>\n",
       "      <td>40.710899</td>\n",
       "      <td>1</td>\n",
       "      <td>5.0</td>\n",
       "      <td>2.00</td>\n",
       "      <td>0.0</td>\n",
       "      <td>8.30</td>\n",
       "      <td>1</td>\n",
       "      <td>0.70</td>\n",
       "    </tr>\n",
       "    <tr>\n",
       "      <th>1</th>\n",
       "      <td>60</td>\n",
       "      <td>2016-06-09 21:09:53</td>\n",
       "      <td>-74.008247</td>\n",
       "      <td>40.711269</td>\n",
       "      <td>1</td>\n",
       "      <td>10.0</td>\n",
       "      <td>3.39</td>\n",
       "      <td>0.0</td>\n",
       "      <td>14.69</td>\n",
       "      <td>1</td>\n",
       "      <td>2.02</td>\n",
       "    </tr>\n",
       "    <tr>\n",
       "      <th>2</th>\n",
       "      <td>71</td>\n",
       "      <td>2016-06-09 21:09:55</td>\n",
       "      <td>-74.016251</td>\n",
       "      <td>40.711048</td>\n",
       "      <td>1</td>\n",
       "      <td>19.0</td>\n",
       "      <td>4.06</td>\n",
       "      <td>0.0</td>\n",
       "      <td>24.36</td>\n",
       "      <td>1</td>\n",
       "      <td>5.56</td>\n",
       "    </tr>\n",
       "    <tr>\n",
       "      <th>3</th>\n",
       "      <td>124</td>\n",
       "      <td>2016-06-09 21:06:00</td>\n",
       "      <td>-74.003128</td>\n",
       "      <td>40.706345</td>\n",
       "      <td>1</td>\n",
       "      <td>20.0</td>\n",
       "      <td>2.20</td>\n",
       "      <td>0.0</td>\n",
       "      <td>23.50</td>\n",
       "      <td>1</td>\n",
       "      <td>4.20</td>\n",
       "    </tr>\n",
       "    <tr>\n",
       "      <th>4</th>\n",
       "      <td>139</td>\n",
       "      <td>2016-06-09 21:06:02</td>\n",
       "      <td>-73.987724</td>\n",
       "      <td>40.700386</td>\n",
       "      <td>1</td>\n",
       "      <td>11.5</td>\n",
       "      <td>1.00</td>\n",
       "      <td>0.0</td>\n",
       "      <td>13.80</td>\n",
       "      <td>1</td>\n",
       "      <td>2.30</td>\n",
       "    </tr>\n",
       "  </tbody>\n",
       "</table>\n",
       "</div>"
      ],
      "text/plain": [
       "   Unnamed: 0     pickup_datetime  pickup_longitude  pickup_latitude  \\\n",
       "0          20 2016-06-09 21:06:38        -74.016121        40.710899   \n",
       "1          60 2016-06-09 21:09:53        -74.008247        40.711269   \n",
       "2          71 2016-06-09 21:09:55        -74.016251        40.711048   \n",
       "3         124 2016-06-09 21:06:00        -74.003128        40.706345   \n",
       "4         139 2016-06-09 21:06:02        -73.987724        40.700386   \n",
       "\n",
       "   payment_type  fare_amount  tip_amount  tolls_amount  total_amount  \\\n",
       "0             1          5.0        2.00           0.0          8.30   \n",
       "1             1         10.0        3.39           0.0         14.69   \n",
       "2             1         19.0        4.06           0.0         24.36   \n",
       "3             1         20.0        2.20           0.0         23.50   \n",
       "4             1         11.5        1.00           0.0         13.80   \n",
       "\n",
       "   passenger_count  trip_distance  \n",
       "0                1           0.70  \n",
       "1                1           2.02  \n",
       "2                1           5.56  \n",
       "3                1           4.20  \n",
       "4                1           2.30  "
      ]
     },
     "execution_count": 3,
     "metadata": {},
     "output_type": "execute_result"
    }
   ],
   "source": [
    "pickups_brooklyn.head()"
   ]
  },
  {
   "cell_type": "code",
   "execution_count": null,
   "metadata": {
    "collapsed": true
   },
   "outputs": [],
   "source": []
  },
  {
   "cell_type": "code",
   "execution_count": 4,
   "metadata": {},
   "outputs": [
    {
     "data": {
      "text/plain": [
       "-74.016120910600009"
      ]
     },
     "execution_count": 4,
     "metadata": {},
     "output_type": "execute_result"
    }
   ],
   "source": [
    "pickups_brooklyn['pickup_longitude'].values[0]"
   ]
  },
  {
   "cell_type": "code",
   "execution_count": null,
   "metadata": {
    "collapsed": true
   },
   "outputs": [],
   "source": []
  },
  {
   "cell_type": "code",
   "execution_count": 5,
   "metadata": {},
   "outputs": [
    {
     "data": {
      "text/html": [
       "<div>\n",
       "<style>\n",
       "    .dataframe thead tr:only-child th {\n",
       "        text-align: right;\n",
       "    }\n",
       "\n",
       "    .dataframe thead th {\n",
       "        text-align: left;\n",
       "    }\n",
       "\n",
       "    .dataframe tbody tr th {\n",
       "        vertical-align: top;\n",
       "    }\n",
       "</style>\n",
       "<table border=\"1\" class=\"dataframe\">\n",
       "  <thead>\n",
       "    <tr style=\"text-align: right;\">\n",
       "      <th></th>\n",
       "      <th>Unnamed: 0</th>\n",
       "      <th>pickup_datetime</th>\n",
       "      <th>pickup_longitude</th>\n",
       "      <th>pickup_latitude</th>\n",
       "      <th>payment_type</th>\n",
       "      <th>fare_amount</th>\n",
       "      <th>tip_amount</th>\n",
       "      <th>tolls_amount</th>\n",
       "      <th>total_amount</th>\n",
       "      <th>passenger_count</th>\n",
       "      <th>trip_distance</th>\n",
       "    </tr>\n",
       "  </thead>\n",
       "  <tbody>\n",
       "    <tr>\n",
       "      <th>0</th>\n",
       "      <td>20</td>\n",
       "      <td>2016-06-09 21:06:38</td>\n",
       "      <td>-74.016121</td>\n",
       "      <td>40.710899</td>\n",
       "      <td>1</td>\n",
       "      <td>5.0</td>\n",
       "      <td>2.00</td>\n",
       "      <td>0.0</td>\n",
       "      <td>8.30</td>\n",
       "      <td>1</td>\n",
       "      <td>0.70</td>\n",
       "    </tr>\n",
       "    <tr>\n",
       "      <th>1</th>\n",
       "      <td>60</td>\n",
       "      <td>2016-06-09 21:09:53</td>\n",
       "      <td>-74.008247</td>\n",
       "      <td>40.711269</td>\n",
       "      <td>1</td>\n",
       "      <td>10.0</td>\n",
       "      <td>3.39</td>\n",
       "      <td>0.0</td>\n",
       "      <td>14.69</td>\n",
       "      <td>1</td>\n",
       "      <td>2.02</td>\n",
       "    </tr>\n",
       "    <tr>\n",
       "      <th>2</th>\n",
       "      <td>71</td>\n",
       "      <td>2016-06-09 21:09:55</td>\n",
       "      <td>-74.016251</td>\n",
       "      <td>40.711048</td>\n",
       "      <td>1</td>\n",
       "      <td>19.0</td>\n",
       "      <td>4.06</td>\n",
       "      <td>0.0</td>\n",
       "      <td>24.36</td>\n",
       "      <td>1</td>\n",
       "      <td>5.56</td>\n",
       "    </tr>\n",
       "    <tr>\n",
       "      <th>3</th>\n",
       "      <td>124</td>\n",
       "      <td>2016-06-09 21:06:00</td>\n",
       "      <td>-74.003128</td>\n",
       "      <td>40.706345</td>\n",
       "      <td>1</td>\n",
       "      <td>20.0</td>\n",
       "      <td>2.20</td>\n",
       "      <td>0.0</td>\n",
       "      <td>23.50</td>\n",
       "      <td>1</td>\n",
       "      <td>4.20</td>\n",
       "    </tr>\n",
       "    <tr>\n",
       "      <th>4</th>\n",
       "      <td>139</td>\n",
       "      <td>2016-06-09 21:06:02</td>\n",
       "      <td>-73.987724</td>\n",
       "      <td>40.700386</td>\n",
       "      <td>1</td>\n",
       "      <td>11.5</td>\n",
       "      <td>1.00</td>\n",
       "      <td>0.0</td>\n",
       "      <td>13.80</td>\n",
       "      <td>1</td>\n",
       "      <td>2.30</td>\n",
       "    </tr>\n",
       "  </tbody>\n",
       "</table>\n",
       "</div>"
      ],
      "text/plain": [
       "   Unnamed: 0     pickup_datetime  pickup_longitude  pickup_latitude  \\\n",
       "0          20 2016-06-09 21:06:38        -74.016121        40.710899   \n",
       "1          60 2016-06-09 21:09:53        -74.008247        40.711269   \n",
       "2          71 2016-06-09 21:09:55        -74.016251        40.711048   \n",
       "3         124 2016-06-09 21:06:00        -74.003128        40.706345   \n",
       "4         139 2016-06-09 21:06:02        -73.987724        40.700386   \n",
       "\n",
       "   payment_type  fare_amount  tip_amount  tolls_amount  total_amount  \\\n",
       "0             1          5.0        2.00           0.0          8.30   \n",
       "1             1         10.0        3.39           0.0         14.69   \n",
       "2             1         19.0        4.06           0.0         24.36   \n",
       "3             1         20.0        2.20           0.0         23.50   \n",
       "4             1         11.5        1.00           0.0         13.80   \n",
       "\n",
       "   passenger_count  trip_distance  \n",
       "0                1           0.70  \n",
       "1                1           2.02  \n",
       "2                1           5.56  \n",
       "3                1           4.20  \n",
       "4                1           2.30  "
      ]
     },
     "execution_count": 5,
     "metadata": {},
     "output_type": "execute_result"
    }
   ],
   "source": [
    "pickups_brooklyn.head()"
   ]
  },
  {
   "cell_type": "code",
   "execution_count": 6,
   "metadata": {},
   "outputs": [
    {
     "data": {
      "text/plain": [
       "40.710899353000002"
      ]
     },
     "execution_count": 6,
     "metadata": {},
     "output_type": "execute_result"
    }
   ],
   "source": [
    "pickups_brooklyn.pickup_latitude.values[0]"
   ]
  },
  {
   "cell_type": "code",
   "execution_count": 7,
   "metadata": {},
   "outputs": [
    {
     "data": {
      "text/plain": [
       "<matplotlib.collections.PathCollection at 0x113354550>"
      ]
     },
     "execution_count": 7,
     "metadata": {},
     "output_type": "execute_result"
    },
    {
     "data": {
      "image/png": "[encoded data removed]",
      "text/plain": [
       "<matplotlib.figure.Figure at 0x114291ba8>"
      ]
     },
     "metadata": {},
     "output_type": "display_data"
    }
   ],
   "source": [
    "plt.scatter(pickups_brooklyn.pickup_longitude, pickups_brooklyn.pickup_latitude, s=0.1)"
   ]
  },
  {
   "cell_type": "code",
   "execution_count": 8,
   "metadata": {
    "collapsed": true
   },
   "outputs": [],
   "source": [
    "#plt.show()"
   ]
  },
  {
   "cell_type": "code",
   "execution_count": 9,
   "metadata": {
    "collapsed": true
   },
   "outputs": [],
   "source": [
    "def time_of_day(hour):\n",
    "    if hour<6:\n",
    "        return \"night\"\n",
    "    elif hour<10:\n",
    "        return \"morning rush\"\n",
    "    elif hour<16:\n",
    "        return \"daytime\"\n",
    "    elif hour<19:\n",
    "        return \"evening_rush\"\n",
    "    else:\n",
    "        return \"night\""
   ]
  },
  {
   "cell_type": "code",
   "execution_count": 10,
   "metadata": {
    "collapsed": true
   },
   "outputs": [],
   "source": [
    "pickups_brooklyn['time_of_day'] = [time_of_day(x) for x in pickups_brooklyn['pickup_datetime'].dt.hour]"
   ]
  },
  {
   "cell_type": "code",
   "execution_count": 11,
   "metadata": {},
   "outputs": [
    {
     "data": {
      "text/html": [
       "<div>\n",
       "<style>\n",
       "    .dataframe thead tr:only-child th {\n",
       "        text-align: right;\n",
       "    }\n",
       "\n",
       "    .dataframe thead th {\n",
       "        text-align: left;\n",
       "    }\n",
       "\n",
       "    .dataframe tbody tr th {\n",
       "        vertical-align: top;\n",
       "    }\n",
       "</style>\n",
       "<table border=\"1\" class=\"dataframe\">\n",
       "  <thead>\n",
       "    <tr style=\"text-align: right;\">\n",
       "      <th></th>\n",
       "      <th>Unnamed: 0</th>\n",
       "      <th>pickup_datetime</th>\n",
       "      <th>pickup_longitude</th>\n",
       "      <th>pickup_latitude</th>\n",
       "      <th>payment_type</th>\n",
       "      <th>fare_amount</th>\n",
       "      <th>tip_amount</th>\n",
       "      <th>tolls_amount</th>\n",
       "      <th>total_amount</th>\n",
       "      <th>passenger_count</th>\n",
       "      <th>trip_distance</th>\n",
       "      <th>time_of_day</th>\n",
       "    </tr>\n",
       "  </thead>\n",
       "  <tbody>\n",
       "    <tr>\n",
       "      <th>0</th>\n",
       "      <td>20</td>\n",
       "      <td>2016-06-09 21:06:38</td>\n",
       "      <td>-74.016121</td>\n",
       "      <td>40.710899</td>\n",
       "      <td>1</td>\n",
       "      <td>5.0</td>\n",
       "      <td>2.00</td>\n",
       "      <td>0.0</td>\n",
       "      <td>8.30</td>\n",
       "      <td>1</td>\n",
       "      <td>0.70</td>\n",
       "      <td>night</td>\n",
       "    </tr>\n",
       "    <tr>\n",
       "      <th>1</th>\n",
       "      <td>60</td>\n",
       "      <td>2016-06-09 21:09:53</td>\n",
       "      <td>-74.008247</td>\n",
       "      <td>40.711269</td>\n",
       "      <td>1</td>\n",
       "      <td>10.0</td>\n",
       "      <td>3.39</td>\n",
       "      <td>0.0</td>\n",
       "      <td>14.69</td>\n",
       "      <td>1</td>\n",
       "      <td>2.02</td>\n",
       "      <td>night</td>\n",
       "    </tr>\n",
       "    <tr>\n",
       "      <th>2</th>\n",
       "      <td>71</td>\n",
       "      <td>2016-06-09 21:09:55</td>\n",
       "      <td>-74.016251</td>\n",
       "      <td>40.711048</td>\n",
       "      <td>1</td>\n",
       "      <td>19.0</td>\n",
       "      <td>4.06</td>\n",
       "      <td>0.0</td>\n",
       "      <td>24.36</td>\n",
       "      <td>1</td>\n",
       "      <td>5.56</td>\n",
       "      <td>night</td>\n",
       "    </tr>\n",
       "    <tr>\n",
       "      <th>3</th>\n",
       "      <td>124</td>\n",
       "      <td>2016-06-09 21:06:00</td>\n",
       "      <td>-74.003128</td>\n",
       "      <td>40.706345</td>\n",
       "      <td>1</td>\n",
       "      <td>20.0</td>\n",
       "      <td>2.20</td>\n",
       "      <td>0.0</td>\n",
       "      <td>23.50</td>\n",
       "      <td>1</td>\n",
       "      <td>4.20</td>\n",
       "      <td>night</td>\n",
       "    </tr>\n",
       "    <tr>\n",
       "      <th>4</th>\n",
       "      <td>139</td>\n",
       "      <td>2016-06-09 21:06:02</td>\n",
       "      <td>-73.987724</td>\n",
       "      <td>40.700386</td>\n",
       "      <td>1</td>\n",
       "      <td>11.5</td>\n",
       "      <td>1.00</td>\n",
       "      <td>0.0</td>\n",
       "      <td>13.80</td>\n",
       "      <td>1</td>\n",
       "      <td>2.30</td>\n",
       "      <td>night</td>\n",
       "    </tr>\n",
       "  </tbody>\n",
       "</table>\n",
       "</div>"
      ],
      "text/plain": [
       "   Unnamed: 0     pickup_datetime  pickup_longitude  pickup_latitude  \\\n",
       "0          20 2016-06-09 21:06:38        -74.016121        40.710899   \n",
       "1          60 2016-06-09 21:09:53        -74.008247        40.711269   \n",
       "2          71 2016-06-09 21:09:55        -74.016251        40.711048   \n",
       "3         124 2016-06-09 21:06:00        -74.003128        40.706345   \n",
       "4         139 2016-06-09 21:06:02        -73.987724        40.700386   \n",
       "\n",
       "   payment_type  fare_amount  tip_amount  tolls_amount  total_amount  \\\n",
       "0             1          5.0        2.00           0.0          8.30   \n",
       "1             1         10.0        3.39           0.0         14.69   \n",
       "2             1         19.0        4.06           0.0         24.36   \n",
       "3             1         20.0        2.20           0.0         23.50   \n",
       "4             1         11.5        1.00           0.0         13.80   \n",
       "\n",
       "   passenger_count  trip_distance time_of_day  \n",
       "0                1           0.70       night  \n",
       "1                1           2.02       night  \n",
       "2                1           5.56       night  \n",
       "3                1           4.20       night  \n",
       "4                1           2.30       night  "
      ]
     },
     "execution_count": 11,
     "metadata": {},
     "output_type": "execute_result"
    }
   ],
   "source": [
    "pickups_brooklyn.head()"
   ]
  },
  {
   "cell_type": "code",
   "execution_count": 12,
   "metadata": {},
   "outputs": [
    {
     "data": {
      "text/plain": [
       "array(['daytime', 'evening_rush', 'morning rush', 'night'], dtype=object)"
      ]
     },
     "execution_count": 12,
     "metadata": {},
     "output_type": "execute_result"
    }
   ],
   "source": [
    "np.unique(pickups_brooklyn.time_of_day.values)"
   ]
  },
  {
   "cell_type": "code",
   "execution_count": 13,
   "metadata": {
    "collapsed": true
   },
   "outputs": [],
   "source": [
    "times_of_day = [\"night\", \"morning rush\", \"daytime\", \"evening_rush\"]"
   ]
  },
  {
   "cell_type": "code",
   "execution_count": 14,
   "metadata": {},
   "outputs": [
    {
     "name": "stdout",
     "output_type": "stream",
     "text": [
      "minimum lon: 40.648311615\n",
      "maximum lon: 40.7115974426\n",
      "minimum lat: -74.0235214233\n",
      "maximum lat: -73.9177093506\n"
     ]
    }
   ],
   "source": [
    "pickups_brooklyn_tod = {}\n",
    "x_tod = {}\n",
    "y_tod = {}\n",
    "coords_tod = {}\n",
    "min_lon = []\n",
    "max_lon = []\n",
    "min_lat = []\n",
    "max_lat = []\n",
    "for time in times_of_day:\n",
    "    pickups_brooklyn_tod[time] = pickups_brooklyn[pickups_brooklyn['time_of_day'] == time]\n",
    "    y_tod[time] = pickups_brooklyn_tod[time]['pickup_latitude'].values\n",
    "    x_tod[time] = pickups_brooklyn_tod[time]['pickup_longitude'].values\n",
    "    min_lat.append(min(x_tod[time]))\n",
    "    max_lat.append(max(x_tod[time]))\n",
    "    min_lon.append(min(y_tod[time]))\n",
    "    max_lon.append(max(y_tod[time]))\n",
    "\n",
    "print(\"minimum lon: \"+ str(min(min_lon)))\n",
    "print(\"maximum lon: \"+ str(max(max_lon)))\n",
    "print(\"minimum lat: \"+ str(min(min_lat)))\n",
    "print(\"maximum lat: \"+ str(max(max_lat)))\n"
   ]
  },
  {
   "cell_type": "code",
   "execution_count": 15,
   "metadata": {},
   "outputs": [
    {
     "name": "stdout",
     "output_type": "stream",
     "text": [
      "188919\n",
      "<class 'list'>\n",
      "65202\n",
      "<class 'list'>\n",
      "105150\n",
      "<class 'list'>\n",
      "57256\n",
      "<class 'list'>\n"
     ]
    }
   ],
   "source": [
    "for time in times_of_day:\n",
    "    print(len(x_tod[time]))\n",
    "    coords_tod[time] = []\n",
    "    print(type(coords_tod[time]))\n",
    "    for i in range(len(x_tod[time])):\n",
    "        coords_tod[time].append([x_tod[time][i], y_tod[time][i]])"
   ]
  },
  {
   "cell_type": "code",
   "execution_count": 16,
   "metadata": {},
   "outputs": [
    {
     "name": "stdout",
     "output_type": "stream",
     "text": [
      "[[-74.016120910600009, 40.710899353000002], [-74.008247375500005, 40.711269378699996], [-74.016250610399993, 40.711048126199998], [-74.003128051800005, 40.706344604499996], [-73.9877243042, 40.700386047399995], [-73.992584228500007, 40.6896362305], [-74.009445190400001, 40.710700988799999], [-73.977706909199995, 40.684486389200003], [-73.954879760699995, 40.710601806599996], [-74.004692077599998, 40.707168579099999]]\n"
     ]
    }
   ],
   "source": [
    "print(coords_tod['night'][:10])"
   ]
  },
  {
   "cell_type": "code",
   "execution_count": 17,
   "metadata": {
    "collapsed": true
   },
   "outputs": [],
   "source": [
    "df1 = pd.DataFrame(x_tod['night'], y_tod['night'], )"
   ]
  },
  {
   "cell_type": "code",
   "execution_count": 18,
   "metadata": {
    "collapsed": true
   },
   "outputs": [],
   "source": [
    "df1 = df1.reset_index()"
   ]
  },
  {
   "cell_type": "code",
   "execution_count": 19,
   "metadata": {
    "collapsed": true
   },
   "outputs": [],
   "source": [
    "dft = {}\n",
    "for time in times_of_day:\n",
    "    d = {'longitude_x': x_tod[time], 'latitude_y': y_tod[time]}\n",
    "    dft[time] = pd.DataFrame(d)"
   ]
  },
  {
   "cell_type": "code",
   "execution_count": 20,
   "metadata": {},
   "outputs": [
    {
     "data": {
      "text/html": [
       "<div>\n",
       "<style>\n",
       "    .dataframe thead tr:only-child th {\n",
       "        text-align: right;\n",
       "    }\n",
       "\n",
       "    .dataframe thead th {\n",
       "        text-align: left;\n",
       "    }\n",
       "\n",
       "    .dataframe tbody tr th {\n",
       "        vertical-align: top;\n",
       "    }\n",
       "</style>\n",
       "<table border=\"1\" class=\"dataframe\">\n",
       "  <thead>\n",
       "    <tr style=\"text-align: right;\">\n",
       "      <th></th>\n",
       "      <th>latitude_y</th>\n",
       "      <th>longitude_x</th>\n",
       "    </tr>\n",
       "  </thead>\n",
       "  <tbody>\n",
       "    <tr>\n",
       "      <th>0</th>\n",
       "      <td>40.710899</td>\n",
       "      <td>-74.016121</td>\n",
       "    </tr>\n",
       "    <tr>\n",
       "      <th>1</th>\n",
       "      <td>40.711269</td>\n",
       "      <td>-74.008247</td>\n",
       "    </tr>\n",
       "    <tr>\n",
       "      <th>2</th>\n",
       "      <td>40.711048</td>\n",
       "      <td>-74.016251</td>\n",
       "    </tr>\n",
       "    <tr>\n",
       "      <th>3</th>\n",
       "      <td>40.706345</td>\n",
       "      <td>-74.003128</td>\n",
       "    </tr>\n",
       "    <tr>\n",
       "      <th>4</th>\n",
       "      <td>40.700386</td>\n",
       "      <td>-73.987724</td>\n",
       "    </tr>\n",
       "  </tbody>\n",
       "</table>\n",
       "</div>"
      ],
      "text/plain": [
       "   latitude_y  longitude_x\n",
       "0   40.710899   -74.016121\n",
       "1   40.711269   -74.008247\n",
       "2   40.711048   -74.016251\n",
       "3   40.706345   -74.003128\n",
       "4   40.700386   -73.987724"
      ]
     },
     "execution_count": 20,
     "metadata": {},
     "output_type": "execute_result"
    }
   ],
   "source": [
    "dft['night'].head()"
   ]
  },
  {
   "cell_type": "code",
   "execution_count": null,
   "metadata": {
    "collapsed": true
   },
   "outputs": [],
   "source": []
  },
  {
   "cell_type": "code",
   "execution_count": 21,
   "metadata": {
    "collapsed": true
   },
   "outputs": [],
   "source": [
    "dft = {}\n",
    "for time in times_of_day:\n",
    "    \n",
    "    d = {'longitude_x': x_tod[time], 'latitude_y': y_tod[time]}\n",
    "    dft[time] = pd.DataFrame(d)"
   ]
  },
  {
   "cell_type": "code",
   "execution_count": 22,
   "metadata": {},
   "outputs": [
    {
     "data": {
      "text/html": [
       "<div>\n",
       "<style>\n",
       "    .dataframe thead tr:only-child th {\n",
       "        text-align: right;\n",
       "    }\n",
       "\n",
       "    .dataframe thead th {\n",
       "        text-align: left;\n",
       "    }\n",
       "\n",
       "    .dataframe tbody tr th {\n",
       "        vertical-align: top;\n",
       "    }\n",
       "</style>\n",
       "<table border=\"1\" class=\"dataframe\">\n",
       "  <thead>\n",
       "    <tr style=\"text-align: right;\">\n",
       "      <th></th>\n",
       "      <th>latitude_y</th>\n",
       "      <th>longitude_x</th>\n",
       "    </tr>\n",
       "  </thead>\n",
       "  <tbody>\n",
       "    <tr>\n",
       "      <th>0</th>\n",
       "      <td>40.710899</td>\n",
       "      <td>-74.016121</td>\n",
       "    </tr>\n",
       "    <tr>\n",
       "      <th>1</th>\n",
       "      <td>40.711269</td>\n",
       "      <td>-74.008247</td>\n",
       "    </tr>\n",
       "    <tr>\n",
       "      <th>2</th>\n",
       "      <td>40.711048</td>\n",
       "      <td>-74.016251</td>\n",
       "    </tr>\n",
       "    <tr>\n",
       "      <th>3</th>\n",
       "      <td>40.706345</td>\n",
       "      <td>-74.003128</td>\n",
       "    </tr>\n",
       "    <tr>\n",
       "      <th>4</th>\n",
       "      <td>40.700386</td>\n",
       "      <td>-73.987724</td>\n",
       "    </tr>\n",
       "  </tbody>\n",
       "</table>\n",
       "</div>"
      ],
      "text/plain": [
       "   latitude_y  longitude_x\n",
       "0   40.710899   -74.016121\n",
       "1   40.711269   -74.008247\n",
       "2   40.711048   -74.016251\n",
       "3   40.706345   -74.003128\n",
       "4   40.700386   -73.987724"
      ]
     },
     "execution_count": 22,
     "metadata": {},
     "output_type": "execute_result"
    }
   ],
   "source": [
    "dft['night'].head()"
   ]
  },
  {
   "cell_type": "code",
   "execution_count": 23,
   "metadata": {
    "collapsed": true
   },
   "outputs": [],
   "source": [
    "from sklearn.cluster import KMeans"
   ]
  },
  {
   "cell_type": "code",
   "execution_count": 24,
   "metadata": {
    "collapsed": true
   },
   "outputs": [],
   "source": [
    "K=5\n",
    "k=KMeans(K)"
   ]
  },
  {
   "cell_type": "code",
   "execution_count": 25,
   "metadata": {},
   "outputs": [
    {
     "data": {
      "text/html": [
       "<div>\n",
       "<style>\n",
       "    .dataframe thead tr:only-child th {\n",
       "        text-align: right;\n",
       "    }\n",
       "\n",
       "    .dataframe thead th {\n",
       "        text-align: left;\n",
       "    }\n",
       "\n",
       "    .dataframe tbody tr th {\n",
       "        vertical-align: top;\n",
       "    }\n",
       "</style>\n",
       "<table border=\"1\" class=\"dataframe\">\n",
       "  <thead>\n",
       "    <tr style=\"text-align: right;\">\n",
       "      <th></th>\n",
       "      <th>latitude_y</th>\n",
       "      <th>longitude_x</th>\n",
       "    </tr>\n",
       "  </thead>\n",
       "  <tbody>\n",
       "    <tr>\n",
       "      <th>0</th>\n",
       "      <td>40.710899</td>\n",
       "      <td>-74.016121</td>\n",
       "    </tr>\n",
       "    <tr>\n",
       "      <th>1</th>\n",
       "      <td>40.711269</td>\n",
       "      <td>-74.008247</td>\n",
       "    </tr>\n",
       "    <tr>\n",
       "      <th>2</th>\n",
       "      <td>40.711048</td>\n",
       "      <td>-74.016251</td>\n",
       "    </tr>\n",
       "    <tr>\n",
       "      <th>3</th>\n",
       "      <td>40.706345</td>\n",
       "      <td>-74.003128</td>\n",
       "    </tr>\n",
       "    <tr>\n",
       "      <th>4</th>\n",
       "      <td>40.700386</td>\n",
       "      <td>-73.987724</td>\n",
       "    </tr>\n",
       "  </tbody>\n",
       "</table>\n",
       "</div>"
      ],
      "text/plain": [
       "   latitude_y  longitude_x\n",
       "0   40.710899   -74.016121\n",
       "1   40.711269   -74.008247\n",
       "2   40.711048   -74.016251\n",
       "3   40.706345   -74.003128\n",
       "4   40.700386   -73.987724"
      ]
     },
     "execution_count": 25,
     "metadata": {},
     "output_type": "execute_result"
    }
   ],
   "source": [
    "dft['night'].head()"
   ]
  },
  {
   "cell_type": "code",
   "execution_count": 26,
   "metadata": {},
   "outputs": [
    {
     "data": {
      "text/plain": [
       "array([[ 40.71089935, -74.01612091],\n",
       "       [ 40.71126938, -74.00824738],\n",
       "       [ 40.71104813, -74.01625061],\n",
       "       ..., \n",
       "       [ 40.66894913, -73.98654175],\n",
       "       [ 40.70531464, -74.00951385],\n",
       "       [ 40.70544052, -74.01699829]])"
      ]
     },
     "execution_count": 26,
     "metadata": {},
     "output_type": "execute_result"
    }
   ],
   "source": [
    "dft['night'].values"
   ]
  },
  {
   "cell_type": "code",
   "execution_count": 27,
   "metadata": {},
   "outputs": [
    {
     "data": {
      "text/plain": [
       "KMeans(algorithm='auto', copy_x=True, init='k-means++', max_iter=300,\n",
       "    n_clusters=5, n_init=10, n_jobs=1, precompute_distances='auto',\n",
       "    random_state=None, tol=0.0001, verbose=0)"
      ]
     },
     "execution_count": 27,
     "metadata": {},
     "output_type": "execute_result"
    }
   ],
   "source": [
    "k.fit(dft['night'].values)"
   ]
  },
  {
   "cell_type": "code",
   "execution_count": null,
   "metadata": {
    "collapsed": true
   },
   "outputs": [],
   "source": [
    "dft['night']['cluster']"
   ]
  },
  {
   "cell_type": "code",
   "execution_count": null,
   "metadata": {},
   "outputs": [],
   "source": []
  },
  {
   "cell_type": "code",
   "execution_count": 49,
   "metadata": {},
   "outputs": [
    {
     "name": "stdout",
     "output_type": "stream",
     "text": [
      "['lightblue', 'yellow', 'rosybrown', 'tomato', 'ivory']\n"
     ]
    },
    {
     "data": {
      "text/plain": [
       "<matplotlib.collections.PathCollection at 0x1a268bf6a0>"
      ]
     },
     "execution_count": 49,
     "metadata": {},
     "output_type": "execute_result"
    },
    {
     "data": {
      "image/png": "[encoded data removed]",
      "text/plain": [
       "<matplotlib.figure.Figure at 0x1a269270f0>"
      ]
     },
     "metadata": {},
     "output_type": "display_data"
    }
   ],
   "source": [
    "import random\n",
    "from matplotlib import colors as mcolors\n",
    "\n",
    "num_colors=len(set(k.labels_))   #it's the number of different labels except for 1 (the -1 label)\n",
    "colors=list(mcolors.CSS4_COLORS.keys())  #found this by searching \"python color list\"\n",
    "cluster_colors=random.choices(colors, k=num_colors)\n",
    "print(cluster_colors)\n",
    "x_=[]\n",
    "y_=[]\n",
    "c_=[]\n",
    "for label, x, y in zip(k.labels_, dft['night']['longitude_x'].values, dft['night']['latitude_y'].values):\n",
    "    if label==-1:\n",
    "        continue\n",
    "    x_.append(x)\n",
    "    y_.append(y)\n",
    "    c_.append(cluster_colors[label])\n",
    "    #plt.figure(figsize=(18, 12))\n",
    "plt.scatter(x_,y_,s=0.55,c=c_)"
   ]
  },
  {
   "cell_type": "code",
   "execution_count": 50,
   "metadata": {},
   "outputs": [
    {
     "data": {
      "text/html": [
       "<div>\n",
       "<style>\n",
       "    .dataframe thead tr:only-child th {\n",
       "        text-align: right;\n",
       "    }\n",
       "\n",
       "    .dataframe thead th {\n",
       "        text-align: left;\n",
       "    }\n",
       "\n",
       "    .dataframe tbody tr th {\n",
       "        vertical-align: top;\n",
       "    }\n",
       "</style>\n",
       "<table border=\"1\" class=\"dataframe\">\n",
       "  <thead>\n",
       "    <tr style=\"text-align: right;\">\n",
       "      <th></th>\n",
       "      <th>latitude_y</th>\n",
       "      <th>longitude_x</th>\n",
       "    </tr>\n",
       "  </thead>\n",
       "  <tbody>\n",
       "    <tr>\n",
       "      <th>0</th>\n",
       "      <td>40.710899</td>\n",
       "      <td>-74.016121</td>\n",
       "    </tr>\n",
       "    <tr>\n",
       "      <th>1</th>\n",
       "      <td>40.711269</td>\n",
       "      <td>-74.008247</td>\n",
       "    </tr>\n",
       "    <tr>\n",
       "      <th>2</th>\n",
       "      <td>40.711048</td>\n",
       "      <td>-74.016251</td>\n",
       "    </tr>\n",
       "    <tr>\n",
       "      <th>3</th>\n",
       "      <td>40.706345</td>\n",
       "      <td>-74.003128</td>\n",
       "    </tr>\n",
       "    <tr>\n",
       "      <th>4</th>\n",
       "      <td>40.700386</td>\n",
       "      <td>-73.987724</td>\n",
       "    </tr>\n",
       "  </tbody>\n",
       "</table>\n",
       "</div>"
      ],
      "text/plain": [
       "   latitude_y  longitude_x\n",
       "0   40.710899   -74.016121\n",
       "1   40.711269   -74.008247\n",
       "2   40.711048   -74.016251\n",
       "3   40.706345   -74.003128\n",
       "4   40.700386   -73.987724"
      ]
     },
     "execution_count": 50,
     "metadata": {},
     "output_type": "execute_result"
    }
   ],
   "source": [
    "dft['night'].head()"
   ]
  },
  {
   "cell_type": "code",
   "execution_count": 32,
   "metadata": {
    "collapsed": true
   },
   "outputs": [],
   "source": [
    "from sklearn.metrics.pairwise import pairwise_distances"
   ]
  },
  {
   "cell_type": "code",
   "execution_count": 33,
   "metadata": {
    "collapsed": true
   },
   "outputs": [],
   "source": [
    "dft_sample = {}\n",
    "dft_sample['night'] = dft['night'].sample(n=10000)"
   ]
  },
  {
   "cell_type": "code",
   "execution_count": 34,
   "metadata": {
    "scrolled": true
   },
   "outputs": [
    {
     "data": {
      "text/html": [
       "<div>\n",
       "<style>\n",
       "    .dataframe thead tr:only-child th {\n",
       "        text-align: right;\n",
       "    }\n",
       "\n",
       "    .dataframe thead th {\n",
       "        text-align: left;\n",
       "    }\n",
       "\n",
       "    .dataframe tbody tr th {\n",
       "        vertical-align: top;\n",
       "    }\n",
       "</style>\n",
       "<table border=\"1\" class=\"dataframe\">\n",
       "  <thead>\n",
       "    <tr style=\"text-align: right;\">\n",
       "      <th></th>\n",
       "      <th>latitude_y</th>\n",
       "      <th>longitude_x</th>\n",
       "    </tr>\n",
       "  </thead>\n",
       "  <tbody>\n",
       "    <tr>\n",
       "      <th>184640</th>\n",
       "      <td>40.708199</td>\n",
       "      <td>-74.003197</td>\n",
       "    </tr>\n",
       "    <tr>\n",
       "      <th>165348</th>\n",
       "      <td>40.696110</td>\n",
       "      <td>-73.987381</td>\n",
       "    </tr>\n",
       "    <tr>\n",
       "      <th>87463</th>\n",
       "      <td>40.697460</td>\n",
       "      <td>-73.932632</td>\n",
       "    </tr>\n",
       "    <tr>\n",
       "      <th>98835</th>\n",
       "      <td>40.684120</td>\n",
       "      <td>-73.977859</td>\n",
       "    </tr>\n",
       "    <tr>\n",
       "      <th>45726</th>\n",
       "      <td>40.685776</td>\n",
       "      <td>-73.935173</td>\n",
       "    </tr>\n",
       "    <tr>\n",
       "      <th>150954</th>\n",
       "      <td>40.701408</td>\n",
       "      <td>-73.991920</td>\n",
       "    </tr>\n",
       "    <tr>\n",
       "      <th>8231</th>\n",
       "      <td>40.689793</td>\n",
       "      <td>-73.981209</td>\n",
       "    </tr>\n",
       "    <tr>\n",
       "      <th>59594</th>\n",
       "      <td>40.697784</td>\n",
       "      <td>-73.991325</td>\n",
       "    </tr>\n",
       "    <tr>\n",
       "      <th>79364</th>\n",
       "      <td>40.673321</td>\n",
       "      <td>-73.982903</td>\n",
       "    </tr>\n",
       "    <tr>\n",
       "      <th>104346</th>\n",
       "      <td>40.703979</td>\n",
       "      <td>-74.009277</td>\n",
       "    </tr>\n",
       "    <tr>\n",
       "      <th>10461</th>\n",
       "      <td>40.708576</td>\n",
       "      <td>-74.006180</td>\n",
       "    </tr>\n",
       "    <tr>\n",
       "      <th>93198</th>\n",
       "      <td>40.664589</td>\n",
       "      <td>-73.994370</td>\n",
       "    </tr>\n",
       "    <tr>\n",
       "      <th>74164</th>\n",
       "      <td>40.653778</td>\n",
       "      <td>-73.930336</td>\n",
       "    </tr>\n",
       "    <tr>\n",
       "      <th>12515</th>\n",
       "      <td>40.704826</td>\n",
       "      <td>-74.010376</td>\n",
       "    </tr>\n",
       "    <tr>\n",
       "      <th>72528</th>\n",
       "      <td>40.704620</td>\n",
       "      <td>-74.013977</td>\n",
       "    </tr>\n",
       "    <tr>\n",
       "      <th>51279</th>\n",
       "      <td>40.707317</td>\n",
       "      <td>-74.011986</td>\n",
       "    </tr>\n",
       "    <tr>\n",
       "      <th>155694</th>\n",
       "      <td>40.673199</td>\n",
       "      <td>-73.989609</td>\n",
       "    </tr>\n",
       "    <tr>\n",
       "      <th>58130</th>\n",
       "      <td>40.651756</td>\n",
       "      <td>-73.972343</td>\n",
       "    </tr>\n",
       "    <tr>\n",
       "      <th>166261</th>\n",
       "      <td>40.704693</td>\n",
       "      <td>-74.013565</td>\n",
       "    </tr>\n",
       "    <tr>\n",
       "      <th>116894</th>\n",
       "      <td>40.709412</td>\n",
       "      <td>-73.958870</td>\n",
       "    </tr>\n",
       "    <tr>\n",
       "      <th>118358</th>\n",
       "      <td>40.704704</td>\n",
       "      <td>-74.007431</td>\n",
       "    </tr>\n",
       "    <tr>\n",
       "      <th>6351</th>\n",
       "      <td>40.668072</td>\n",
       "      <td>-73.990738</td>\n",
       "    </tr>\n",
       "    <tr>\n",
       "      <th>180269</th>\n",
       "      <td>40.704967</td>\n",
       "      <td>-74.015930</td>\n",
       "    </tr>\n",
       "    <tr>\n",
       "      <th>118987</th>\n",
       "      <td>40.690563</td>\n",
       "      <td>-73.966385</td>\n",
       "    </tr>\n",
       "    <tr>\n",
       "      <th>62066</th>\n",
       "      <td>40.694603</td>\n",
       "      <td>-73.956314</td>\n",
       "    </tr>\n",
       "    <tr>\n",
       "      <th>64551</th>\n",
       "      <td>40.709309</td>\n",
       "      <td>-74.005959</td>\n",
       "    </tr>\n",
       "    <tr>\n",
       "      <th>186988</th>\n",
       "      <td>40.707096</td>\n",
       "      <td>-74.012138</td>\n",
       "    </tr>\n",
       "    <tr>\n",
       "      <th>945</th>\n",
       "      <td>40.689232</td>\n",
       "      <td>-73.980873</td>\n",
       "    </tr>\n",
       "    <tr>\n",
       "      <th>145095</th>\n",
       "      <td>40.708984</td>\n",
       "      <td>-74.002151</td>\n",
       "    </tr>\n",
       "    <tr>\n",
       "      <th>37153</th>\n",
       "      <td>40.677666</td>\n",
       "      <td>-73.979790</td>\n",
       "    </tr>\n",
       "    <tr>\n",
       "      <th>...</th>\n",
       "      <td>...</td>\n",
       "      <td>...</td>\n",
       "    </tr>\n",
       "    <tr>\n",
       "      <th>91485</th>\n",
       "      <td>40.704151</td>\n",
       "      <td>-74.008698</td>\n",
       "    </tr>\n",
       "    <tr>\n",
       "      <th>164033</th>\n",
       "      <td>40.695030</td>\n",
       "      <td>-73.995132</td>\n",
       "    </tr>\n",
       "    <tr>\n",
       "      <th>70084</th>\n",
       "      <td>40.699024</td>\n",
       "      <td>-73.992302</td>\n",
       "    </tr>\n",
       "    <tr>\n",
       "      <th>43901</th>\n",
       "      <td>40.688950</td>\n",
       "      <td>-73.960030</td>\n",
       "    </tr>\n",
       "    <tr>\n",
       "      <th>138175</th>\n",
       "      <td>40.709690</td>\n",
       "      <td>-74.014809</td>\n",
       "    </tr>\n",
       "    <tr>\n",
       "      <th>123795</th>\n",
       "      <td>40.674809</td>\n",
       "      <td>-73.997673</td>\n",
       "    </tr>\n",
       "    <tr>\n",
       "      <th>185972</th>\n",
       "      <td>40.708511</td>\n",
       "      <td>-73.940002</td>\n",
       "    </tr>\n",
       "    <tr>\n",
       "      <th>160</th>\n",
       "      <td>40.697922</td>\n",
       "      <td>-73.992760</td>\n",
       "    </tr>\n",
       "    <tr>\n",
       "      <th>29392</th>\n",
       "      <td>40.681881</td>\n",
       "      <td>-73.996696</td>\n",
       "    </tr>\n",
       "    <tr>\n",
       "      <th>100955</th>\n",
       "      <td>40.690926</td>\n",
       "      <td>-73.991798</td>\n",
       "    </tr>\n",
       "    <tr>\n",
       "      <th>107763</th>\n",
       "      <td>40.707161</td>\n",
       "      <td>-73.954376</td>\n",
       "    </tr>\n",
       "    <tr>\n",
       "      <th>69866</th>\n",
       "      <td>40.707642</td>\n",
       "      <td>-74.004311</td>\n",
       "    </tr>\n",
       "    <tr>\n",
       "      <th>81658</th>\n",
       "      <td>40.707680</td>\n",
       "      <td>-73.955345</td>\n",
       "    </tr>\n",
       "    <tr>\n",
       "      <th>172913</th>\n",
       "      <td>40.703148</td>\n",
       "      <td>-73.946465</td>\n",
       "    </tr>\n",
       "    <tr>\n",
       "      <th>28738</th>\n",
       "      <td>40.711517</td>\n",
       "      <td>-74.010437</td>\n",
       "    </tr>\n",
       "    <tr>\n",
       "      <th>175588</th>\n",
       "      <td>40.699539</td>\n",
       "      <td>-73.940521</td>\n",
       "    </tr>\n",
       "    <tr>\n",
       "      <th>155025</th>\n",
       "      <td>40.679024</td>\n",
       "      <td>-74.010780</td>\n",
       "    </tr>\n",
       "    <tr>\n",
       "      <th>88837</th>\n",
       "      <td>40.702271</td>\n",
       "      <td>-74.011177</td>\n",
       "    </tr>\n",
       "    <tr>\n",
       "      <th>41897</th>\n",
       "      <td>40.708389</td>\n",
       "      <td>-74.004669</td>\n",
       "    </tr>\n",
       "    <tr>\n",
       "      <th>173316</th>\n",
       "      <td>40.705059</td>\n",
       "      <td>-74.009308</td>\n",
       "    </tr>\n",
       "    <tr>\n",
       "      <th>107300</th>\n",
       "      <td>40.698608</td>\n",
       "      <td>-73.934456</td>\n",
       "    </tr>\n",
       "    <tr>\n",
       "      <th>55262</th>\n",
       "      <td>40.675671</td>\n",
       "      <td>-73.984154</td>\n",
       "    </tr>\n",
       "    <tr>\n",
       "      <th>14794</th>\n",
       "      <td>40.687061</td>\n",
       "      <td>-73.976265</td>\n",
       "    </tr>\n",
       "    <tr>\n",
       "      <th>30813</th>\n",
       "      <td>40.710861</td>\n",
       "      <td>-73.926964</td>\n",
       "    </tr>\n",
       "    <tr>\n",
       "      <th>40357</th>\n",
       "      <td>40.707409</td>\n",
       "      <td>-74.004555</td>\n",
       "    </tr>\n",
       "    <tr>\n",
       "      <th>56407</th>\n",
       "      <td>40.671577</td>\n",
       "      <td>-73.971039</td>\n",
       "    </tr>\n",
       "    <tr>\n",
       "      <th>29260</th>\n",
       "      <td>40.683636</td>\n",
       "      <td>-73.978928</td>\n",
       "    </tr>\n",
       "    <tr>\n",
       "      <th>33422</th>\n",
       "      <td>40.709660</td>\n",
       "      <td>-74.006760</td>\n",
       "    </tr>\n",
       "    <tr>\n",
       "      <th>154631</th>\n",
       "      <td>40.702435</td>\n",
       "      <td>-74.012985</td>\n",
       "    </tr>\n",
       "    <tr>\n",
       "      <th>54950</th>\n",
       "      <td>40.689747</td>\n",
       "      <td>-73.992653</td>\n",
       "    </tr>\n",
       "  </tbody>\n",
       "</table>\n",
       "<p>10000 rows × 2 columns</p>\n",
       "</div>"
      ],
      "text/plain": [
       "        latitude_y  longitude_x\n",
       "184640   40.708199   -74.003197\n",
       "165348   40.696110   -73.987381\n",
       "87463    40.697460   -73.932632\n",
       "98835    40.684120   -73.977859\n",
       "45726    40.685776   -73.935173\n",
       "150954   40.701408   -73.991920\n",
       "8231     40.689793   -73.981209\n",
       "59594    40.697784   -73.991325\n",
       "79364    40.673321   -73.982903\n",
       "104346   40.703979   -74.009277\n",
       "10461    40.708576   -74.006180\n",
       "93198    40.664589   -73.994370\n",
       "74164    40.653778   -73.930336\n",
       "12515    40.704826   -74.010376\n",
       "72528    40.704620   -74.013977\n",
       "51279    40.707317   -74.011986\n",
       "155694   40.673199   -73.989609\n",
       "58130    40.651756   -73.972343\n",
       "166261   40.704693   -74.013565\n",
       "116894   40.709412   -73.958870\n",
       "118358   40.704704   -74.007431\n",
       "6351     40.668072   -73.990738\n",
       "180269   40.704967   -74.015930\n",
       "118987   40.690563   -73.966385\n",
       "62066    40.694603   -73.956314\n",
       "64551    40.709309   -74.005959\n",
       "186988   40.707096   -74.012138\n",
       "945      40.689232   -73.980873\n",
       "145095   40.708984   -74.002151\n",
       "37153    40.677666   -73.979790\n",
       "...            ...          ...\n",
       "91485    40.704151   -74.008698\n",
       "164033   40.695030   -73.995132\n",
       "70084    40.699024   -73.992302\n",
       "43901    40.688950   -73.960030\n",
       "138175   40.709690   -74.014809\n",
       "123795   40.674809   -73.997673\n",
       "185972   40.708511   -73.940002\n",
       "160      40.697922   -73.992760\n",
       "29392    40.681881   -73.996696\n",
       "100955   40.690926   -73.991798\n",
       "107763   40.707161   -73.954376\n",
       "69866    40.707642   -74.004311\n",
       "81658    40.707680   -73.955345\n",
       "172913   40.703148   -73.946465\n",
       "28738    40.711517   -74.010437\n",
       "175588   40.699539   -73.940521\n",
       "155025   40.679024   -74.010780\n",
       "88837    40.702271   -74.011177\n",
       "41897    40.708389   -74.004669\n",
       "173316   40.705059   -74.009308\n",
       "107300   40.698608   -73.934456\n",
       "55262    40.675671   -73.984154\n",
       "14794    40.687061   -73.976265\n",
       "30813    40.710861   -73.926964\n",
       "40357    40.707409   -74.004555\n",
       "56407    40.671577   -73.971039\n",
       "29260    40.683636   -73.978928\n",
       "33422    40.709660   -74.006760\n",
       "154631   40.702435   -74.012985\n",
       "54950    40.689747   -73.992653\n",
       "\n",
       "[10000 rows x 2 columns]"
      ]
     },
     "execution_count": 34,
     "metadata": {},
     "output_type": "execute_result"
    }
   ],
   "source": [
    "dft_sample['night']"
   ]
  },
  {
   "cell_type": "code",
   "execution_count": 35,
   "metadata": {
    "collapsed": true
   },
   "outputs": [],
   "source": [
    "dft_sample['night']['coord'] = np.nan"
   ]
  },
  {
   "cell_type": "code",
   "execution_count": 36,
   "metadata": {},
   "outputs": [
    {
     "data": {
      "text/html": [
       "<div>\n",
       "<style>\n",
       "    .dataframe thead tr:only-child th {\n",
       "        text-align: right;\n",
       "    }\n",
       "\n",
       "    .dataframe thead th {\n",
       "        text-align: left;\n",
       "    }\n",
       "\n",
       "    .dataframe tbody tr th {\n",
       "        vertical-align: top;\n",
       "    }\n",
       "</style>\n",
       "<table border=\"1\" class=\"dataframe\">\n",
       "  <thead>\n",
       "    <tr style=\"text-align: right;\">\n",
       "      <th></th>\n",
       "      <th>latitude_y</th>\n",
       "      <th>longitude_x</th>\n",
       "      <th>coord</th>\n",
       "    </tr>\n",
       "  </thead>\n",
       "  <tbody>\n",
       "    <tr>\n",
       "      <th>184640</th>\n",
       "      <td>40.708199</td>\n",
       "      <td>-74.003197</td>\n",
       "      <td>NaN</td>\n",
       "    </tr>\n",
       "    <tr>\n",
       "      <th>165348</th>\n",
       "      <td>40.696110</td>\n",
       "      <td>-73.987381</td>\n",
       "      <td>NaN</td>\n",
       "    </tr>\n",
       "    <tr>\n",
       "      <th>87463</th>\n",
       "      <td>40.697460</td>\n",
       "      <td>-73.932632</td>\n",
       "      <td>NaN</td>\n",
       "    </tr>\n",
       "    <tr>\n",
       "      <th>98835</th>\n",
       "      <td>40.684120</td>\n",
       "      <td>-73.977859</td>\n",
       "      <td>NaN</td>\n",
       "    </tr>\n",
       "    <tr>\n",
       "      <th>45726</th>\n",
       "      <td>40.685776</td>\n",
       "      <td>-73.935173</td>\n",
       "      <td>NaN</td>\n",
       "    </tr>\n",
       "  </tbody>\n",
       "</table>\n",
       "</div>"
      ],
      "text/plain": [
       "        latitude_y  longitude_x  coord\n",
       "184640   40.708199   -74.003197    NaN\n",
       "165348   40.696110   -73.987381    NaN\n",
       "87463    40.697460   -73.932632    NaN\n",
       "98835    40.684120   -73.977859    NaN\n",
       "45726    40.685776   -73.935173    NaN"
      ]
     },
     "execution_count": 36,
     "metadata": {},
     "output_type": "execute_result"
    }
   ],
   "source": [
    "dft_sample['night'].head()"
   ]
  },
  {
   "cell_type": "code",
   "execution_count": 44,
   "metadata": {
    "collapsed": true
   },
   "outputs": [],
   "source": [
    "sampleCoords = {}\n",
    "sampleCoords['night'] = []\n",
    "for x, y in zip(dft_sample['night']['longitude_x'].values, dft_sample['night']['latitude_y'].values):\n",
    "    coords = [x, y]\n",
    "    sampleCoords['night'].append(coords)\n",
    "dft_sample['night']['coord'] = sampleCoords['night']"
   ]
  },
  {
   "cell_type": "code",
   "execution_count": null,
   "metadata": {
    "collapsed": true
   },
   "outputs": [],
   "source": []
  },
  {
   "cell_type": "code",
   "execution_count": null,
   "metadata": {
    "collapsed": true
   },
   "outputs": [],
   "source": []
  },
  {
   "cell_type": "code",
   "execution_count": 45,
   "metadata": {
    "collapsed": true
   },
   "outputs": [],
   "source": [
    "coords = []\n",
    "for i in range(len(dft_sample['night']['longitude_x'].values)):\n",
    "    coords.append([dft_sample['night']['longitude_x'].values[i], dft_sample['night']['latitude_y'].values[i]])"
   ]
  },
  {
   "cell_type": "code",
   "execution_count": null,
   "metadata": {
    "collapsed": true
   },
   "outputs": [],
   "source": []
  },
  {
   "cell_type": "code",
   "execution_count": 46,
   "metadata": {
    "collapsed": true
   },
   "outputs": [],
   "source": [
    "\n",
    "diest = pairwise_distances(coords, metric='euclidean', n_jobs=1)"
   ]
  },
  {
   "cell_type": "code",
   "execution_count": 47,
   "metadata": {},
   "outputs": [
    {
     "data": {
      "text/plain": [
       "array([[  0.00000000e+00,   1.99066815e-02,   7.13766688e-02, ...,\n",
       "          3.85085151e-03,   1.13595236e-02,   2.12517552e-02],\n",
       "       [  1.99066815e-02,   0.00000000e+00,   5.47651868e-02, ...,\n",
       "          2.36459247e-02,   2.63738547e-02,   8.26315562e-03],\n",
       "       [  7.13766688e-02,   5.47651868e-02,   0.00000000e+00, ...,\n",
       "          7.51243422e-02,   8.05066089e-02,   6.05140422e-02],\n",
       "       ..., \n",
       "       [  3.85085151e-03,   2.36459247e-02,   7.51243422e-02, ...,\n",
       "          0.00000000e+00,   9.53724660e-03,   2.44032133e-02],\n",
       "       [  1.13595236e-02,   2.63738547e-02,   8.05066089e-02, ...,\n",
       "          9.53724660e-03,   0.00000000e+00,   2.39662514e-02],\n",
       "       [  2.12517552e-02,   8.26315562e-03,   6.05140422e-02, ...,\n",
       "          2.44032133e-02,   2.39662514e-02,   1.34869915e-06]])"
      ]
     },
     "execution_count": 47,
     "metadata": {},
     "output_type": "execute_result"
    }
   ],
   "source": [
    "diest"
   ]
  },
  {
   "cell_type": "code",
   "execution_count": 48,
   "metadata": {},
   "outputs": [
    {
     "data": {
      "text/html": [
       "<div>\n",
       "<style>\n",
       "    .dataframe thead tr:only-child th {\n",
       "        text-align: right;\n",
       "    }\n",
       "\n",
       "    .dataframe thead th {\n",
       "        text-align: left;\n",
       "    }\n",
       "\n",
       "    .dataframe tbody tr th {\n",
       "        vertical-align: top;\n",
       "    }\n",
       "</style>\n",
       "<table border=\"1\" class=\"dataframe\">\n",
       "  <thead>\n",
       "    <tr style=\"text-align: right;\">\n",
       "      <th></th>\n",
       "      <th>latitude_y</th>\n",
       "      <th>longitude_x</th>\n",
       "      <th>coord</th>\n",
       "    </tr>\n",
       "  </thead>\n",
       "  <tbody>\n",
       "    <tr>\n",
       "      <th>184640</th>\n",
       "      <td>40.708199</td>\n",
       "      <td>-74.003197</td>\n",
       "      <td>[-74.0031967163, 40.7081985474]</td>\n",
       "    </tr>\n",
       "    <tr>\n",
       "      <th>165348</th>\n",
       "      <td>40.696110</td>\n",
       "      <td>-73.987381</td>\n",
       "      <td>[-73.9873809814, 40.6961097717]</td>\n",
       "    </tr>\n",
       "    <tr>\n",
       "      <th>87463</th>\n",
       "      <td>40.697460</td>\n",
       "      <td>-73.932632</td>\n",
       "      <td>[-73.9326324463, 40.6974601746]</td>\n",
       "    </tr>\n",
       "    <tr>\n",
       "      <th>98835</th>\n",
       "      <td>40.684120</td>\n",
       "      <td>-73.977859</td>\n",
       "      <td>[-73.9778594971, 40.6841201782]</td>\n",
       "    </tr>\n",
       "    <tr>\n",
       "      <th>45726</th>\n",
       "      <td>40.685776</td>\n",
       "      <td>-73.935173</td>\n",
       "      <td>[-73.9351730347, 40.6857757568]</td>\n",
       "    </tr>\n",
       "    <tr>\n",
       "      <th>150954</th>\n",
       "      <td>40.701408</td>\n",
       "      <td>-73.991920</td>\n",
       "      <td>[-73.9919204712, 40.7014083862]</td>\n",
       "    </tr>\n",
       "    <tr>\n",
       "      <th>8231</th>\n",
       "      <td>40.689793</td>\n",
       "      <td>-73.981209</td>\n",
       "      <td>[-73.9812088013, 40.6897926331]</td>\n",
       "    </tr>\n",
       "    <tr>\n",
       "      <th>59594</th>\n",
       "      <td>40.697784</td>\n",
       "      <td>-73.991325</td>\n",
       "      <td>[-73.9913253784, 40.6977844238]</td>\n",
       "    </tr>\n",
       "    <tr>\n",
       "      <th>79364</th>\n",
       "      <td>40.673321</td>\n",
       "      <td>-73.982903</td>\n",
       "      <td>[-73.9829025269, 40.6733207703]</td>\n",
       "    </tr>\n",
       "    <tr>\n",
       "      <th>104346</th>\n",
       "      <td>40.703979</td>\n",
       "      <td>-74.009277</td>\n",
       "      <td>[-74.0092773438, 40.7039794922]</td>\n",
       "    </tr>\n",
       "    <tr>\n",
       "      <th>10461</th>\n",
       "      <td>40.708576</td>\n",
       "      <td>-74.006180</td>\n",
       "      <td>[-74.0061798096, 40.7085762024]</td>\n",
       "    </tr>\n",
       "    <tr>\n",
       "      <th>93198</th>\n",
       "      <td>40.664589</td>\n",
       "      <td>-73.994370</td>\n",
       "      <td>[-73.9943695068, 40.6645889282]</td>\n",
       "    </tr>\n",
       "    <tr>\n",
       "      <th>74164</th>\n",
       "      <td>40.653778</td>\n",
       "      <td>-73.930336</td>\n",
       "      <td>[-73.9303359985, 40.6537780762]</td>\n",
       "    </tr>\n",
       "    <tr>\n",
       "      <th>12515</th>\n",
       "      <td>40.704826</td>\n",
       "      <td>-74.010376</td>\n",
       "      <td>[-74.0103759766, 40.704826355]</td>\n",
       "    </tr>\n",
       "    <tr>\n",
       "      <th>72528</th>\n",
       "      <td>40.704620</td>\n",
       "      <td>-74.013977</td>\n",
       "      <td>[-74.0139770508, 40.7046203613]</td>\n",
       "    </tr>\n",
       "    <tr>\n",
       "      <th>51279</th>\n",
       "      <td>40.707317</td>\n",
       "      <td>-74.011986</td>\n",
       "      <td>[-74.0119857788, 40.7073173523]</td>\n",
       "    </tr>\n",
       "    <tr>\n",
       "      <th>155694</th>\n",
       "      <td>40.673199</td>\n",
       "      <td>-73.989609</td>\n",
       "      <td>[-73.9896087646, 40.6731987]</td>\n",
       "    </tr>\n",
       "    <tr>\n",
       "      <th>58130</th>\n",
       "      <td>40.651756</td>\n",
       "      <td>-73.972343</td>\n",
       "      <td>[-73.9723434448, 40.6517562866]</td>\n",
       "    </tr>\n",
       "    <tr>\n",
       "      <th>166261</th>\n",
       "      <td>40.704693</td>\n",
       "      <td>-74.013565</td>\n",
       "      <td>[-74.0135650635, 40.7046928406]</td>\n",
       "    </tr>\n",
       "    <tr>\n",
       "      <th>116894</th>\n",
       "      <td>40.709412</td>\n",
       "      <td>-73.958870</td>\n",
       "      <td>[-73.9588699341, 40.7094116211]</td>\n",
       "    </tr>\n",
       "    <tr>\n",
       "      <th>118358</th>\n",
       "      <td>40.704704</td>\n",
       "      <td>-74.007431</td>\n",
       "      <td>[-74.0074310303, 40.7047042847]</td>\n",
       "    </tr>\n",
       "    <tr>\n",
       "      <th>6351</th>\n",
       "      <td>40.668072</td>\n",
       "      <td>-73.990738</td>\n",
       "      <td>[-73.990737915, 40.6680717468]</td>\n",
       "    </tr>\n",
       "    <tr>\n",
       "      <th>180269</th>\n",
       "      <td>40.704967</td>\n",
       "      <td>-74.015930</td>\n",
       "      <td>[-74.0159301758, 40.7049674988]</td>\n",
       "    </tr>\n",
       "    <tr>\n",
       "      <th>118987</th>\n",
       "      <td>40.690563</td>\n",
       "      <td>-73.966385</td>\n",
       "      <td>[-73.9663848877, 40.6905632019]</td>\n",
       "    </tr>\n",
       "    <tr>\n",
       "      <th>62066</th>\n",
       "      <td>40.694603</td>\n",
       "      <td>-73.956314</td>\n",
       "      <td>[-73.9563140869, 40.6946029663]</td>\n",
       "    </tr>\n",
       "    <tr>\n",
       "      <th>64551</th>\n",
       "      <td>40.709309</td>\n",
       "      <td>-74.005959</td>\n",
       "      <td>[-74.0059585571, 40.7093086243]</td>\n",
       "    </tr>\n",
       "    <tr>\n",
       "      <th>186988</th>\n",
       "      <td>40.707096</td>\n",
       "      <td>-74.012138</td>\n",
       "      <td>[-74.0121383667, 40.7070960999]</td>\n",
       "    </tr>\n",
       "    <tr>\n",
       "      <th>945</th>\n",
       "      <td>40.689232</td>\n",
       "      <td>-73.980873</td>\n",
       "      <td>[-73.9808731079, 40.6892318726]</td>\n",
       "    </tr>\n",
       "    <tr>\n",
       "      <th>145095</th>\n",
       "      <td>40.708984</td>\n",
       "      <td>-74.002151</td>\n",
       "      <td>[-74.0021514893, 40.708984375]</td>\n",
       "    </tr>\n",
       "    <tr>\n",
       "      <th>37153</th>\n",
       "      <td>40.677666</td>\n",
       "      <td>-73.979790</td>\n",
       "      <td>[-73.9797897339, 40.6776657104]</td>\n",
       "    </tr>\n",
       "    <tr>\n",
       "      <th>...</th>\n",
       "      <td>...</td>\n",
       "      <td>...</td>\n",
       "      <td>...</td>\n",
       "    </tr>\n",
       "    <tr>\n",
       "      <th>91485</th>\n",
       "      <td>40.704151</td>\n",
       "      <td>-74.008698</td>\n",
       "      <td>[-74.0086975098, 40.7041511536]</td>\n",
       "    </tr>\n",
       "    <tr>\n",
       "      <th>164033</th>\n",
       "      <td>40.695030</td>\n",
       "      <td>-73.995132</td>\n",
       "      <td>[-73.9951324463, 40.6950302124]</td>\n",
       "    </tr>\n",
       "    <tr>\n",
       "      <th>70084</th>\n",
       "      <td>40.699024</td>\n",
       "      <td>-73.992302</td>\n",
       "      <td>[-73.9923019409, 40.6990242004]</td>\n",
       "    </tr>\n",
       "    <tr>\n",
       "      <th>43901</th>\n",
       "      <td>40.688950</td>\n",
       "      <td>-73.960030</td>\n",
       "      <td>[-73.9600296021, 40.688949585]</td>\n",
       "    </tr>\n",
       "    <tr>\n",
       "      <th>138175</th>\n",
       "      <td>40.709690</td>\n",
       "      <td>-74.014809</td>\n",
       "      <td>[-74.0148086548, 40.709690094]</td>\n",
       "    </tr>\n",
       "    <tr>\n",
       "      <th>123795</th>\n",
       "      <td>40.674809</td>\n",
       "      <td>-73.997673</td>\n",
       "      <td>[-73.9976730347, 40.6748085022]</td>\n",
       "    </tr>\n",
       "    <tr>\n",
       "      <th>185972</th>\n",
       "      <td>40.708511</td>\n",
       "      <td>-73.940002</td>\n",
       "      <td>[-73.9400024414, 40.7085113525]</td>\n",
       "    </tr>\n",
       "    <tr>\n",
       "      <th>160</th>\n",
       "      <td>40.697922</td>\n",
       "      <td>-73.992760</td>\n",
       "      <td>[-73.9927597046, 40.6979217529]</td>\n",
       "    </tr>\n",
       "    <tr>\n",
       "      <th>29392</th>\n",
       "      <td>40.681881</td>\n",
       "      <td>-73.996696</td>\n",
       "      <td>[-73.9966964722, 40.6818809509]</td>\n",
       "    </tr>\n",
       "    <tr>\n",
       "      <th>100955</th>\n",
       "      <td>40.690926</td>\n",
       "      <td>-73.991798</td>\n",
       "      <td>[-73.9917984009, 40.6909255981]</td>\n",
       "    </tr>\n",
       "    <tr>\n",
       "      <th>107763</th>\n",
       "      <td>40.707161</td>\n",
       "      <td>-73.954376</td>\n",
       "      <td>[-73.9543762207, 40.7071609497]</td>\n",
       "    </tr>\n",
       "    <tr>\n",
       "      <th>69866</th>\n",
       "      <td>40.707642</td>\n",
       "      <td>-74.004311</td>\n",
       "      <td>[-74.0043106079, 40.7076416016]</td>\n",
       "    </tr>\n",
       "    <tr>\n",
       "      <th>81658</th>\n",
       "      <td>40.707680</td>\n",
       "      <td>-73.955345</td>\n",
       "      <td>[-73.9553451538, 40.7076797485]</td>\n",
       "    </tr>\n",
       "    <tr>\n",
       "      <th>172913</th>\n",
       "      <td>40.703148</td>\n",
       "      <td>-73.946465</td>\n",
       "      <td>[-73.9464645386, 40.7031478882]</td>\n",
       "    </tr>\n",
       "    <tr>\n",
       "      <th>28738</th>\n",
       "      <td>40.711517</td>\n",
       "      <td>-74.010437</td>\n",
       "      <td>[-74.0104370117, 40.711517334]</td>\n",
       "    </tr>\n",
       "    <tr>\n",
       "      <th>175588</th>\n",
       "      <td>40.699539</td>\n",
       "      <td>-73.940521</td>\n",
       "      <td>[-73.9405212402, 40.6995391846]</td>\n",
       "    </tr>\n",
       "    <tr>\n",
       "      <th>155025</th>\n",
       "      <td>40.679024</td>\n",
       "      <td>-74.010780</td>\n",
       "      <td>[-74.0107803345, 40.6790237427]</td>\n",
       "    </tr>\n",
       "    <tr>\n",
       "      <th>88837</th>\n",
       "      <td>40.702271</td>\n",
       "      <td>-74.011177</td>\n",
       "      <td>[-74.011177063, 40.7022705078]</td>\n",
       "    </tr>\n",
       "    <tr>\n",
       "      <th>41897</th>\n",
       "      <td>40.708389</td>\n",
       "      <td>-74.004669</td>\n",
       "      <td>[-74.0046691895, 40.7083892822]</td>\n",
       "    </tr>\n",
       "    <tr>\n",
       "      <th>173316</th>\n",
       "      <td>40.705059</td>\n",
       "      <td>-74.009308</td>\n",
       "      <td>[-74.0093078613, 40.7050590515]</td>\n",
       "    </tr>\n",
       "    <tr>\n",
       "      <th>107300</th>\n",
       "      <td>40.698608</td>\n",
       "      <td>-73.934456</td>\n",
       "      <td>[-73.9344558716, 40.6986083984]</td>\n",
       "    </tr>\n",
       "    <tr>\n",
       "      <th>55262</th>\n",
       "      <td>40.675671</td>\n",
       "      <td>-73.984154</td>\n",
       "      <td>[-73.9841537476, 40.6756706238]</td>\n",
       "    </tr>\n",
       "    <tr>\n",
       "      <th>14794</th>\n",
       "      <td>40.687061</td>\n",
       "      <td>-73.976265</td>\n",
       "      <td>[-73.9762649536, 40.6870613098]</td>\n",
       "    </tr>\n",
       "    <tr>\n",
       "      <th>30813</th>\n",
       "      <td>40.710861</td>\n",
       "      <td>-73.926964</td>\n",
       "      <td>[-73.9269638062, 40.7108612061]</td>\n",
       "    </tr>\n",
       "    <tr>\n",
       "      <th>40357</th>\n",
       "      <td>40.707409</td>\n",
       "      <td>-74.004555</td>\n",
       "      <td>[-74.0045547485, 40.707408905]</td>\n",
       "    </tr>\n",
       "    <tr>\n",
       "      <th>56407</th>\n",
       "      <td>40.671577</td>\n",
       "      <td>-73.971039</td>\n",
       "      <td>[-73.9710388184, 40.6715774536]</td>\n",
       "    </tr>\n",
       "    <tr>\n",
       "      <th>29260</th>\n",
       "      <td>40.683636</td>\n",
       "      <td>-73.978928</td>\n",
       "      <td>[-73.9789276123, 40.6836357117]</td>\n",
       "    </tr>\n",
       "    <tr>\n",
       "      <th>33422</th>\n",
       "      <td>40.709660</td>\n",
       "      <td>-74.006760</td>\n",
       "      <td>[-74.0067596436, 40.7096595764]</td>\n",
       "    </tr>\n",
       "    <tr>\n",
       "      <th>154631</th>\n",
       "      <td>40.702435</td>\n",
       "      <td>-74.012985</td>\n",
       "      <td>[-74.0129852295, 40.7024345398]</td>\n",
       "    </tr>\n",
       "    <tr>\n",
       "      <th>54950</th>\n",
       "      <td>40.689747</td>\n",
       "      <td>-73.992653</td>\n",
       "      <td>[-73.9926528931, 40.6897468567]</td>\n",
       "    </tr>\n",
       "  </tbody>\n",
       "</table>\n",
       "<p>10000 rows × 3 columns</p>\n",
       "</div>"
      ],
      "text/plain": [
       "        latitude_y  longitude_x                            coord\n",
       "184640   40.708199   -74.003197  [-74.0031967163, 40.7081985474]\n",
       "165348   40.696110   -73.987381  [-73.9873809814, 40.6961097717]\n",
       "87463    40.697460   -73.932632  [-73.9326324463, 40.6974601746]\n",
       "98835    40.684120   -73.977859  [-73.9778594971, 40.6841201782]\n",
       "45726    40.685776   -73.935173  [-73.9351730347, 40.6857757568]\n",
       "150954   40.701408   -73.991920  [-73.9919204712, 40.7014083862]\n",
       "8231     40.689793   -73.981209  [-73.9812088013, 40.6897926331]\n",
       "59594    40.697784   -73.991325  [-73.9913253784, 40.6977844238]\n",
       "79364    40.673321   -73.982903  [-73.9829025269, 40.6733207703]\n",
       "104346   40.703979   -74.009277  [-74.0092773438, 40.7039794922]\n",
       "10461    40.708576   -74.006180  [-74.0061798096, 40.7085762024]\n",
       "93198    40.664589   -73.994370  [-73.9943695068, 40.6645889282]\n",
       "74164    40.653778   -73.930336  [-73.9303359985, 40.6537780762]\n",
       "12515    40.704826   -74.010376   [-74.0103759766, 40.704826355]\n",
       "72528    40.704620   -74.013977  [-74.0139770508, 40.7046203613]\n",
       "51279    40.707317   -74.011986  [-74.0119857788, 40.7073173523]\n",
       "155694   40.673199   -73.989609     [-73.9896087646, 40.6731987]\n",
       "58130    40.651756   -73.972343  [-73.9723434448, 40.6517562866]\n",
       "166261   40.704693   -74.013565  [-74.0135650635, 40.7046928406]\n",
       "116894   40.709412   -73.958870  [-73.9588699341, 40.7094116211]\n",
       "118358   40.704704   -74.007431  [-74.0074310303, 40.7047042847]\n",
       "6351     40.668072   -73.990738   [-73.990737915, 40.6680717468]\n",
       "180269   40.704967   -74.015930  [-74.0159301758, 40.7049674988]\n",
       "118987   40.690563   -73.966385  [-73.9663848877, 40.6905632019]\n",
       "62066    40.694603   -73.956314  [-73.9563140869, 40.6946029663]\n",
       "64551    40.709309   -74.005959  [-74.0059585571, 40.7093086243]\n",
       "186988   40.707096   -74.012138  [-74.0121383667, 40.7070960999]\n",
       "945      40.689232   -73.980873  [-73.9808731079, 40.6892318726]\n",
       "145095   40.708984   -74.002151   [-74.0021514893, 40.708984375]\n",
       "37153    40.677666   -73.979790  [-73.9797897339, 40.6776657104]\n",
       "...            ...          ...                              ...\n",
       "91485    40.704151   -74.008698  [-74.0086975098, 40.7041511536]\n",
       "164033   40.695030   -73.995132  [-73.9951324463, 40.6950302124]\n",
       "70084    40.699024   -73.992302  [-73.9923019409, 40.6990242004]\n",
       "43901    40.688950   -73.960030   [-73.9600296021, 40.688949585]\n",
       "138175   40.709690   -74.014809   [-74.0148086548, 40.709690094]\n",
       "123795   40.674809   -73.997673  [-73.9976730347, 40.6748085022]\n",
       "185972   40.708511   -73.940002  [-73.9400024414, 40.7085113525]\n",
       "160      40.697922   -73.992760  [-73.9927597046, 40.6979217529]\n",
       "29392    40.681881   -73.996696  [-73.9966964722, 40.6818809509]\n",
       "100955   40.690926   -73.991798  [-73.9917984009, 40.6909255981]\n",
       "107763   40.707161   -73.954376  [-73.9543762207, 40.7071609497]\n",
       "69866    40.707642   -74.004311  [-74.0043106079, 40.7076416016]\n",
       "81658    40.707680   -73.955345  [-73.9553451538, 40.7076797485]\n",
       "172913   40.703148   -73.946465  [-73.9464645386, 40.7031478882]\n",
       "28738    40.711517   -74.010437   [-74.0104370117, 40.711517334]\n",
       "175588   40.699539   -73.940521  [-73.9405212402, 40.6995391846]\n",
       "155025   40.679024   -74.010780  [-74.0107803345, 40.6790237427]\n",
       "88837    40.702271   -74.011177   [-74.011177063, 40.7022705078]\n",
       "41897    40.708389   -74.004669  [-74.0046691895, 40.7083892822]\n",
       "173316   40.705059   -74.009308  [-74.0093078613, 40.7050590515]\n",
       "107300   40.698608   -73.934456  [-73.9344558716, 40.6986083984]\n",
       "55262    40.675671   -73.984154  [-73.9841537476, 40.6756706238]\n",
       "14794    40.687061   -73.976265  [-73.9762649536, 40.6870613098]\n",
       "30813    40.710861   -73.926964  [-73.9269638062, 40.7108612061]\n",
       "40357    40.707409   -74.004555   [-74.0045547485, 40.707408905]\n",
       "56407    40.671577   -73.971039  [-73.9710388184, 40.6715774536]\n",
       "29260    40.683636   -73.978928  [-73.9789276123, 40.6836357117]\n",
       "33422    40.709660   -74.006760  [-74.0067596436, 40.7096595764]\n",
       "154631   40.702435   -74.012985  [-74.0129852295, 40.7024345398]\n",
       "54950    40.689747   -73.992653  [-73.9926528931, 40.6897468567]\n",
       "\n",
       "[10000 rows x 3 columns]"
      ]
     },
     "execution_count": 48,
     "metadata": {},
     "output_type": "execute_result"
    }
   ],
   "source": [
    "dft_sample['night']"
   ]
  },
  {
   "cell_type": "code",
   "execution_count": 41,
   "metadata": {
    "collapsed": true
   },
   "outputs": [],
   "source": [
    "from sklearn.metrics import silhouette_score"
   ]
  },
  {
   "cell_type": "code",
   "execution_count": 42,
   "metadata": {},
   "outputs": [
    {
     "ename": "KeyError",
     "evalue": "'cluster'",
     "output_type": "error",
     "traceback": [
      "\u001b[0;31m---------------------------------------------------------------------------\u001b[0m",
      "\u001b[0;31mKeyError\u001b[0m                                  Traceback (most recent call last)",
      "\u001b[0;32m~/anaconda/lib/python3.6/site-packages/pandas/core/indexes/base.py\u001b[0m in \u001b[0;36mget_loc\u001b[0;34m(self, key, method, tolerance)\u001b[0m\n\u001b[1;32m   2441\u001b[0m             \u001b[0;32mtry\u001b[0m\u001b[0;34m:\u001b[0m\u001b[0;34m\u001b[0m\u001b[0m\n\u001b[0;32m-> 2442\u001b[0;31m                 \u001b[0;32mreturn\u001b[0m \u001b[0mself\u001b[0m\u001b[0;34m.\u001b[0m\u001b[0m_engine\u001b[0m\u001b[0;34m.\u001b[0m\u001b[0mget_loc\u001b[0m\u001b[0;34m(\u001b[0m\u001b[0mkey\u001b[0m\u001b[0;34m)\u001b[0m\u001b[0;34m\u001b[0m\u001b[0m\n\u001b[0m\u001b[1;32m   2443\u001b[0m             \u001b[0;32mexcept\u001b[0m \u001b[0mKeyError\u001b[0m\u001b[0;34m:\u001b[0m\u001b[0;34m\u001b[0m\u001b[0m\n",
      "\u001b[0;32mpandas/_libs/index.pyx\u001b[0m in \u001b[0;36mpandas._libs.index.IndexEngine.get_loc\u001b[0;34m()\u001b[0m\n",
      "\u001b[0;32mpandas/_libs/index.pyx\u001b[0m in \u001b[0;36mpandas._libs.index.IndexEngine.get_loc\u001b[0;34m()\u001b[0m\n",
      "\u001b[0;32mpandas/_libs/hashtable_class_helper.pxi\u001b[0m in \u001b[0;36mpandas._libs.hashtable.PyObjectHashTable.get_item\u001b[0;34m()\u001b[0m\n",
      "\u001b[0;32mpandas/_libs/hashtable_class_helper.pxi\u001b[0m in \u001b[0;36mpandas._libs.hashtable.PyObjectHashTable.get_item\u001b[0;34m()\u001b[0m\n",
      "\u001b[0;31mKeyError\u001b[0m: 'cluster'",
      "\nDuring handling of the above exception, another exception occurred:\n",
      "\u001b[0;31mKeyError\u001b[0m                                  Traceback (most recent call last)",
      "\u001b[0;32m<ipython-input-42-ae0b67ba92b8>\u001b[0m in \u001b[0;36m<module>\u001b[0;34m()\u001b[0m\n\u001b[0;32m----> 1\u001b[0;31m \u001b[0msilhouette_avg\u001b[0m \u001b[0;34m=\u001b[0m \u001b[0msilhouette_score\u001b[0m\u001b[0;34m(\u001b[0m\u001b[0mdiest\u001b[0m\u001b[0;34m,\u001b[0m \u001b[0mdft_sample\u001b[0m\u001b[0;34m[\u001b[0m\u001b[0;34m'night'\u001b[0m\u001b[0;34m]\u001b[0m\u001b[0;34m[\u001b[0m\u001b[0;34m'cluster'\u001b[0m\u001b[0;34m]\u001b[0m\u001b[0;34m,\u001b[0m \u001b[0mmetric\u001b[0m\u001b[0;34m=\u001b[0m\u001b[0;34m\"precomputed\"\u001b[0m\u001b[0;34m)\u001b[0m\u001b[0;34m\u001b[0m\u001b[0m\n\u001b[0m",
      "\u001b[0;32m~/anaconda/lib/python3.6/site-packages/pandas/core/frame.py\u001b[0m in \u001b[0;36m__getitem__\u001b[0;34m(self, key)\u001b[0m\n\u001b[1;32m   1962\u001b[0m             \u001b[0;32mreturn\u001b[0m \u001b[0mself\u001b[0m\u001b[0;34m.\u001b[0m\u001b[0m_getitem_multilevel\u001b[0m\u001b[0;34m(\u001b[0m\u001b[0mkey\u001b[0m\u001b[0;34m)\u001b[0m\u001b[0;34m\u001b[0m\u001b[0m\n\u001b[1;32m   1963\u001b[0m         \u001b[0;32melse\u001b[0m\u001b[0;34m:\u001b[0m\u001b[0;34m\u001b[0m\u001b[0m\n\u001b[0;32m-> 1964\u001b[0;31m             \u001b[0;32mreturn\u001b[0m \u001b[0mself\u001b[0m\u001b[0;34m.\u001b[0m\u001b[0m_getitem_column\u001b[0m\u001b[0;34m(\u001b[0m\u001b[0mkey\u001b[0m\u001b[0;34m)\u001b[0m\u001b[0;34m\u001b[0m\u001b[0m\n\u001b[0m\u001b[1;32m   1965\u001b[0m \u001b[0;34m\u001b[0m\u001b[0m\n\u001b[1;32m   1966\u001b[0m     \u001b[0;32mdef\u001b[0m \u001b[0m_getitem_column\u001b[0m\u001b[0;34m(\u001b[0m\u001b[0mself\u001b[0m\u001b[0;34m,\u001b[0m \u001b[0mkey\u001b[0m\u001b[0;34m)\u001b[0m\u001b[0;34m:\u001b[0m\u001b[0;34m\u001b[0m\u001b[0m\n",
      "\u001b[0;32m~/anaconda/lib/python3.6/site-packages/pandas/core/frame.py\u001b[0m in \u001b[0;36m_getitem_column\u001b[0;34m(self, key)\u001b[0m\n\u001b[1;32m   1969\u001b[0m         \u001b[0;31m# get column\u001b[0m\u001b[0;34m\u001b[0m\u001b[0;34m\u001b[0m\u001b[0m\n\u001b[1;32m   1970\u001b[0m         \u001b[0;32mif\u001b[0m \u001b[0mself\u001b[0m\u001b[0;34m.\u001b[0m\u001b[0mcolumns\u001b[0m\u001b[0;34m.\u001b[0m\u001b[0mis_unique\u001b[0m\u001b[0;34m:\u001b[0m\u001b[0;34m\u001b[0m\u001b[0m\n\u001b[0;32m-> 1971\u001b[0;31m             \u001b[0;32mreturn\u001b[0m \u001b[0mself\u001b[0m\u001b[0;34m.\u001b[0m\u001b[0m_get_item_cache\u001b[0m\u001b[0;34m(\u001b[0m\u001b[0mkey\u001b[0m\u001b[0;34m)\u001b[0m\u001b[0;34m\u001b[0m\u001b[0m\n\u001b[0m\u001b[1;32m   1972\u001b[0m \u001b[0;34m\u001b[0m\u001b[0m\n\u001b[1;32m   1973\u001b[0m         \u001b[0;31m# duplicate columns & possible reduce dimensionality\u001b[0m\u001b[0;34m\u001b[0m\u001b[0;34m\u001b[0m\u001b[0m\n",
      "\u001b[0;32m~/anaconda/lib/python3.6/site-packages/pandas/core/generic.py\u001b[0m in \u001b[0;36m_get_item_cache\u001b[0;34m(self, item)\u001b[0m\n\u001b[1;32m   1643\u001b[0m         \u001b[0mres\u001b[0m \u001b[0;34m=\u001b[0m \u001b[0mcache\u001b[0m\u001b[0;34m.\u001b[0m\u001b[0mget\u001b[0m\u001b[0;34m(\u001b[0m\u001b[0mitem\u001b[0m\u001b[0;34m)\u001b[0m\u001b[0;34m\u001b[0m\u001b[0m\n\u001b[1;32m   1644\u001b[0m         \u001b[0;32mif\u001b[0m \u001b[0mres\u001b[0m \u001b[0;32mis\u001b[0m \u001b[0;32mNone\u001b[0m\u001b[0;34m:\u001b[0m\u001b[0;34m\u001b[0m\u001b[0m\n\u001b[0;32m-> 1645\u001b[0;31m             \u001b[0mvalues\u001b[0m \u001b[0;34m=\u001b[0m \u001b[0mself\u001b[0m\u001b[0;34m.\u001b[0m\u001b[0m_data\u001b[0m\u001b[0;34m.\u001b[0m\u001b[0mget\u001b[0m\u001b[0;34m(\u001b[0m\u001b[0mitem\u001b[0m\u001b[0;34m)\u001b[0m\u001b[0;34m\u001b[0m\u001b[0m\n\u001b[0m\u001b[1;32m   1646\u001b[0m             \u001b[0mres\u001b[0m \u001b[0;34m=\u001b[0m \u001b[0mself\u001b[0m\u001b[0;34m.\u001b[0m\u001b[0m_box_item_values\u001b[0m\u001b[0;34m(\u001b[0m\u001b[0mitem\u001b[0m\u001b[0;34m,\u001b[0m \u001b[0mvalues\u001b[0m\u001b[0;34m)\u001b[0m\u001b[0;34m\u001b[0m\u001b[0m\n\u001b[1;32m   1647\u001b[0m             \u001b[0mcache\u001b[0m\u001b[0;34m[\u001b[0m\u001b[0mitem\u001b[0m\u001b[0;34m]\u001b[0m \u001b[0;34m=\u001b[0m \u001b[0mres\u001b[0m\u001b[0;34m\u001b[0m\u001b[0m\n",
      "\u001b[0;32m~/anaconda/lib/python3.6/site-packages/pandas/core/internals.py\u001b[0m in \u001b[0;36mget\u001b[0;34m(self, item, fastpath)\u001b[0m\n\u001b[1;32m   3588\u001b[0m \u001b[0;34m\u001b[0m\u001b[0m\n\u001b[1;32m   3589\u001b[0m             \u001b[0;32mif\u001b[0m \u001b[0;32mnot\u001b[0m \u001b[0misnull\u001b[0m\u001b[0;34m(\u001b[0m\u001b[0mitem\u001b[0m\u001b[0;34m)\u001b[0m\u001b[0;34m:\u001b[0m\u001b[0;34m\u001b[0m\u001b[0m\n\u001b[0;32m-> 3590\u001b[0;31m                 \u001b[0mloc\u001b[0m \u001b[0;34m=\u001b[0m \u001b[0mself\u001b[0m\u001b[0;34m.\u001b[0m\u001b[0mitems\u001b[0m\u001b[0;34m.\u001b[0m\u001b[0mget_loc\u001b[0m\u001b[0;34m(\u001b[0m\u001b[0mitem\u001b[0m\u001b[0;34m)\u001b[0m\u001b[0;34m\u001b[0m\u001b[0m\n\u001b[0m\u001b[1;32m   3591\u001b[0m             \u001b[0;32melse\u001b[0m\u001b[0;34m:\u001b[0m\u001b[0;34m\u001b[0m\u001b[0m\n\u001b[1;32m   3592\u001b[0m                 \u001b[0mindexer\u001b[0m \u001b[0;34m=\u001b[0m \u001b[0mnp\u001b[0m\u001b[0;34m.\u001b[0m\u001b[0marange\u001b[0m\u001b[0;34m(\u001b[0m\u001b[0mlen\u001b[0m\u001b[0;34m(\u001b[0m\u001b[0mself\u001b[0m\u001b[0;34m.\u001b[0m\u001b[0mitems\u001b[0m\u001b[0;34m)\u001b[0m\u001b[0;34m)\u001b[0m\u001b[0;34m[\u001b[0m\u001b[0misnull\u001b[0m\u001b[0;34m(\u001b[0m\u001b[0mself\u001b[0m\u001b[0;34m.\u001b[0m\u001b[0mitems\u001b[0m\u001b[0;34m)\u001b[0m\u001b[0;34m]\u001b[0m\u001b[0;34m\u001b[0m\u001b[0m\n",
      "\u001b[0;32m~/anaconda/lib/python3.6/site-packages/pandas/core/indexes/base.py\u001b[0m in \u001b[0;36mget_loc\u001b[0;34m(self, key, method, tolerance)\u001b[0m\n\u001b[1;32m   2442\u001b[0m                 \u001b[0;32mreturn\u001b[0m \u001b[0mself\u001b[0m\u001b[0;34m.\u001b[0m\u001b[0m_engine\u001b[0m\u001b[0;34m.\u001b[0m\u001b[0mget_loc\u001b[0m\u001b[0;34m(\u001b[0m\u001b[0mkey\u001b[0m\u001b[0;34m)\u001b[0m\u001b[0;34m\u001b[0m\u001b[0m\n\u001b[1;32m   2443\u001b[0m             \u001b[0;32mexcept\u001b[0m \u001b[0mKeyError\u001b[0m\u001b[0;34m:\u001b[0m\u001b[0;34m\u001b[0m\u001b[0m\n\u001b[0;32m-> 2444\u001b[0;31m                 \u001b[0;32mreturn\u001b[0m \u001b[0mself\u001b[0m\u001b[0;34m.\u001b[0m\u001b[0m_engine\u001b[0m\u001b[0;34m.\u001b[0m\u001b[0mget_loc\u001b[0m\u001b[0;34m(\u001b[0m\u001b[0mself\u001b[0m\u001b[0;34m.\u001b[0m\u001b[0m_maybe_cast_indexer\u001b[0m\u001b[0;34m(\u001b[0m\u001b[0mkey\u001b[0m\u001b[0;34m)\u001b[0m\u001b[0;34m)\u001b[0m\u001b[0;34m\u001b[0m\u001b[0m\n\u001b[0m\u001b[1;32m   2445\u001b[0m \u001b[0;34m\u001b[0m\u001b[0m\n\u001b[1;32m   2446\u001b[0m         \u001b[0mindexer\u001b[0m \u001b[0;34m=\u001b[0m \u001b[0mself\u001b[0m\u001b[0;34m.\u001b[0m\u001b[0mget_indexer\u001b[0m\u001b[0;34m(\u001b[0m\u001b[0;34m[\u001b[0m\u001b[0mkey\u001b[0m\u001b[0;34m]\u001b[0m\u001b[0;34m,\u001b[0m \u001b[0mmethod\u001b[0m\u001b[0;34m=\u001b[0m\u001b[0mmethod\u001b[0m\u001b[0;34m,\u001b[0m \u001b[0mtolerance\u001b[0m\u001b[0;34m=\u001b[0m\u001b[0mtolerance\u001b[0m\u001b[0;34m)\u001b[0m\u001b[0;34m\u001b[0m\u001b[0m\n",
      "\u001b[0;32mpandas/_libs/index.pyx\u001b[0m in \u001b[0;36mpandas._libs.index.IndexEngine.get_loc\u001b[0;34m()\u001b[0m\n",
      "\u001b[0;32mpandas/_libs/index.pyx\u001b[0m in \u001b[0;36mpandas._libs.index.IndexEngine.get_loc\u001b[0;34m()\u001b[0m\n",
      "\u001b[0;32mpandas/_libs/hashtable_class_helper.pxi\u001b[0m in \u001b[0;36mpandas._libs.hashtable.PyObjectHashTable.get_item\u001b[0;34m()\u001b[0m\n",
      "\u001b[0;32mpandas/_libs/hashtable_class_helper.pxi\u001b[0m in \u001b[0;36mpandas._libs.hashtable.PyObjectHashTable.get_item\u001b[0;34m()\u001b[0m\n",
      "\u001b[0;31mKeyError\u001b[0m: 'cluster'"
     ]
    }
   ],
   "source": [
    "silhouette_avg = silhouette_score(diest, dft_sample['night']['cluster'], metric=\"precomputed\")"
   ]
  },
  {
   "cell_type": "code",
   "execution_count": null,
   "metadata": {},
   "outputs": [],
   "source": [
    "silhouette_avg"
   ]
  },
  {
   "cell_type": "code",
   "execution_count": null,
   "metadata": {
    "collapsed": true
   },
   "outputs": [],
   "source": []
  },
  {
   "cell_type": "code",
   "execution_count": null,
   "metadata": {
    "collapsed": true
   },
   "outputs": [],
   "source": []
  },
  {
   "cell_type": "code",
   "execution_count": null,
   "metadata": {
    "collapsed": true
   },
   "outputs": [],
   "source": []
  },
  {
   "cell_type": "code",
   "execution_count": null,
   "metadata": {},
   "outputs": [],
   "source": [
    "plt.scatter(dft['night']['longitude_x'].values, dft['night']['latitude_y'].values, s=0.5, )"
   ]
  },
  {
   "cell_type": "code",
   "execution_count": null,
   "metadata": {},
   "outputs": [],
   "source": [
    "plt.scatter(x_tod['night'], y_tod['night'], s=0.5)"
   ]
  },
  {
   "cell_type": "code",
   "execution_count": null,
   "metadata": {
    "collapsed": true
   },
   "outputs": [],
   "source": [
    "dft['night']['cluster']=k.fit_predict(dft['night'])"
   ]
  },
  {
   "cell_type": "code",
   "execution_count": null,
   "metadata": {},
   "outputs": [],
   "source": [
    "type(x_tod['night'][0])"
   ]
  },
  {
   "cell_type": "code",
   "execution_count": null,
   "metadata": {
    "collapsed": true
   },
   "outputs": [],
   "source": []
  },
  {
   "cell_type": "code",
   "execution_count": null,
   "metadata": {
    "collapsed": true
   },
   "outputs": [],
   "source": []
  },
  {
   "cell_type": "code",
   "execution_count": null,
   "metadata": {
    "collapsed": true
   },
   "outputs": [],
   "source": [
    "#axes = plt.scatter(x_tod[\"night\"], y_tod[\"night\"]).axes\n",
    "#print(plt.Axes.get_ylim(axes))\n",
    "#print(plt.Axes.get_xlim(axes))"
   ]
  },
  {
   "cell_type": "code",
   "execution_count": null,
   "metadata": {
    "collapsed": true
   },
   "outputs": [],
   "source": []
  },
  {
   "cell_type": "code",
   "execution_count": null,
   "metadata": {
    "collapsed": true
   },
   "outputs": [],
   "source": []
  },
  {
   "cell_type": "code",
   "execution_count": null,
   "metadata": {},
   "outputs": [],
   "source": [
    "plt.scatter(x_tod[\"daytime\"], y_tod[\"daytime\"], s=0.5)"
   ]
  },
  {
   "cell_type": "code",
   "execution_count": null,
   "metadata": {},
   "outputs": [],
   "source": [
    "plt.scatter(x_tod[\"evening_rush\"], y_tod[\"evening_rush\"], s=0.5)"
   ]
  },
  {
   "cell_type": "code",
   "execution_count": null,
   "metadata": {},
   "outputs": [],
   "source": [
    "plt.scatter(x_tod['night'], y_tod['night'], s=0.5)"
   ]
  },
  {
   "cell_type": "raw",
   "metadata": {
    "collapsed": true
   },
   "source": [
    "Perform Clustering on the locations for each time of the day"
   ]
  },
  {
   "cell_type": "code",
   "execution_count": null,
   "metadata": {
    "collapsed": true
   },
   "outputs": [],
   "source": [
    "# Density based and K-Means"
   ]
  },
  {
   "cell_type": "code",
   "execution_count": null,
   "metadata": {
    "collapsed": true
   },
   "outputs": [],
   "source": [
    "def createTrainAndTestSet(x, y):\n",
    "    numTrain = len(x)*2/3\n",
    "    x_train = x[:numTrain]\n",
    "    y_train = y[numTrain:]\n",
    "    x_test = x[:numTrain]\n",
    "    y_test = y[numTrain:]"
   ]
  },
  {
   "cell_type": "code",
   "execution_count": null,
   "metadata": {
    "collapsed": true
   },
   "outputs": [],
   "source": []
  },
  {
   "cell_type": "code",
   "execution_count": null,
   "metadata": {
    "collapsed": true
   },
   "outputs": [],
   "source": [
    "# K-Means, measure distortion and silhouette"
   ]
  },
  {
   "cell_type": "code",
   "execution_count": null,
   "metadata": {
    "collapsed": true
   },
   "outputs": [],
   "source": [
    "from sklearn.cluster import KMeans"
   ]
  },
  {
   "cell_type": "code",
   "execution_count": null,
   "metadata": {
    "collapsed": true
   },
   "outputs": [],
   "source": [
    "K=5\n",
    "k=KMeans(K)"
   ]
  },
  {
   "cell_type": "code",
   "execution_count": null,
   "metadata": {},
   "outputs": [],
   "source": [
    "x_tod['evening_rush']"
   ]
  },
  {
   "cell_type": "code",
   "execution_count": null,
   "metadata": {},
   "outputs": [],
   "source": [
    "k.fit([x_tod['evening_rush'], y_tod['evening_rush']])"
   ]
  },
  {
   "cell_type": "code",
   "execution_count": null,
   "metadata": {
    "collapsed": true
   },
   "outputs": [],
   "source": []
  },
  {
   "cell_type": "code",
   "execution_count": null,
   "metadata": {
    "collapsed": true
   },
   "outputs": [],
   "source": []
  },
  {
   "cell_type": "code",
   "execution_count": null,
   "metadata": {
    "collapsed": true
   },
   "outputs": [],
   "source": [
    "# examine tips"
   ]
  },
  {
   "cell_type": "code",
   "execution_count": null,
   "metadata": {
    "collapsed": true
   },
   "outputs": [],
   "source": []
  }
 ],
 "metadata": {
  "kernelspec": {
   "display_name": "Python 3",
   "language": "python",
   "name": "python3"
  },
  "language_info": {
   "codemirror_mode": {
    "name": "ipython",
    "version": 3
   },
   "file_extension": ".py",
   "mimetype": "text/x-python",
   "name": "python",
   "nbconvert_exporter": "python",
   "pygments_lexer": "ipython3",
   "version": "3.6.3"
  }
 },
 "nbformat": 4,
 "nbformat_minor": 2
}
