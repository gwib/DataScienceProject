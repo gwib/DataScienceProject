{
 "cells": [
  {
   "cell_type": "code",
   "execution_count": 1,
   "metadata": {
    "collapsed": true
   },
   "outputs": [],
   "source": [
    "import pandas as pd\n",
    "import numpy as np\n",
    "import matplotlib.pyplot as plt\n",
    "import datetime as dt\n",
    "%matplotlib inline"
   ]
  },
  {
   "cell_type": "code",
   "execution_count": 2,
   "metadata": {
    "collapsed": true
   },
   "outputs": [],
   "source": [
    "pickups_brooklyn = pd.read_csv('Pickups_Brooklyn_June.csv', delimiter=',')\n",
    "pickups_brooklyn['pickup_datetime'] = pickups_brooklyn['pickup_datetime'].apply(lambda x: dt.datetime.strptime(x, \"%Y-%m-%d %H:%M:%S\"))"
   ]
  },
  {
   "cell_type": "code",
   "execution_count": 3,
   "metadata": {},
   "outputs": [
    {
     "data": {
      "text/html": [
       "<div>\n",
       "<style>\n",
       "    .dataframe thead tr:only-child th {\n",
       "        text-align: right;\n",
       "    }\n",
       "\n",
       "    .dataframe thead th {\n",
       "        text-align: left;\n",
       "    }\n",
       "\n",
       "    .dataframe tbody tr th {\n",
       "        vertical-align: top;\n",
       "    }\n",
       "</style>\n",
       "<table border=\"1\" class=\"dataframe\">\n",
       "  <thead>\n",
       "    <tr style=\"text-align: right;\">\n",
       "      <th></th>\n",
       "      <th>Unnamed: 0</th>\n",
       "      <th>pickup_datetime</th>\n",
       "      <th>pickup_longitude</th>\n",
       "      <th>pickup_latitude</th>\n",
       "      <th>payment_type</th>\n",
       "      <th>fare_amount</th>\n",
       "      <th>tip_amount</th>\n",
       "      <th>tolls_amount</th>\n",
       "      <th>total_amount</th>\n",
       "      <th>passenger_count</th>\n",
       "      <th>trip_distance</th>\n",
       "    </tr>\n",
       "  </thead>\n",
       "  <tbody>\n",
       "    <tr>\n",
       "      <th>0</th>\n",
       "      <td>20</td>\n",
       "      <td>2016-06-09 21:06:38</td>\n",
       "      <td>-74.016121</td>\n",
       "      <td>40.710899</td>\n",
       "      <td>1</td>\n",
       "      <td>5.0</td>\n",
       "      <td>2.00</td>\n",
       "      <td>0.0</td>\n",
       "      <td>8.30</td>\n",
       "      <td>1</td>\n",
       "      <td>0.70</td>\n",
       "    </tr>\n",
       "    <tr>\n",
       "      <th>1</th>\n",
       "      <td>60</td>\n",
       "      <td>2016-06-09 21:09:53</td>\n",
       "      <td>-74.008247</td>\n",
       "      <td>40.711269</td>\n",
       "      <td>1</td>\n",
       "      <td>10.0</td>\n",
       "      <td>3.39</td>\n",
       "      <td>0.0</td>\n",
       "      <td>14.69</td>\n",
       "      <td>1</td>\n",
       "      <td>2.02</td>\n",
       "    </tr>\n",
       "    <tr>\n",
       "      <th>2</th>\n",
       "      <td>71</td>\n",
       "      <td>2016-06-09 21:09:55</td>\n",
       "      <td>-74.016251</td>\n",
       "      <td>40.711048</td>\n",
       "      <td>1</td>\n",
       "      <td>19.0</td>\n",
       "      <td>4.06</td>\n",
       "      <td>0.0</td>\n",
       "      <td>24.36</td>\n",
       "      <td>1</td>\n",
       "      <td>5.56</td>\n",
       "    </tr>\n",
       "    <tr>\n",
       "      <th>3</th>\n",
       "      <td>124</td>\n",
       "      <td>2016-06-09 21:06:00</td>\n",
       "      <td>-74.003128</td>\n",
       "      <td>40.706345</td>\n",
       "      <td>1</td>\n",
       "      <td>20.0</td>\n",
       "      <td>2.20</td>\n",
       "      <td>0.0</td>\n",
       "      <td>23.50</td>\n",
       "      <td>1</td>\n",
       "      <td>4.20</td>\n",
       "    </tr>\n",
       "    <tr>\n",
       "      <th>4</th>\n",
       "      <td>139</td>\n",
       "      <td>2016-06-09 21:06:02</td>\n",
       "      <td>-73.987724</td>\n",
       "      <td>40.700386</td>\n",
       "      <td>1</td>\n",
       "      <td>11.5</td>\n",
       "      <td>1.00</td>\n",
       "      <td>0.0</td>\n",
       "      <td>13.80</td>\n",
       "      <td>1</td>\n",
       "      <td>2.30</td>\n",
       "    </tr>\n",
       "  </tbody>\n",
       "</table>\n",
       "</div>"
      ],
      "text/plain": [
       "   Unnamed: 0     pickup_datetime  pickup_longitude  pickup_latitude  \\\n",
       "0          20 2016-06-09 21:06:38        -74.016121        40.710899   \n",
       "1          60 2016-06-09 21:09:53        -74.008247        40.711269   \n",
       "2          71 2016-06-09 21:09:55        -74.016251        40.711048   \n",
       "3         124 2016-06-09 21:06:00        -74.003128        40.706345   \n",
       "4         139 2016-06-09 21:06:02        -73.987724        40.700386   \n",
       "\n",
       "   payment_type  fare_amount  tip_amount  tolls_amount  total_amount  \\\n",
       "0             1          5.0        2.00           0.0          8.30   \n",
       "1             1         10.0        3.39           0.0         14.69   \n",
       "2             1         19.0        4.06           0.0         24.36   \n",
       "3             1         20.0        2.20           0.0         23.50   \n",
       "4             1         11.5        1.00           0.0         13.80   \n",
       "\n",
       "   passenger_count  trip_distance  \n",
       "0                1           0.70  \n",
       "1                1           2.02  \n",
       "2                1           5.56  \n",
       "3                1           4.20  \n",
       "4                1           2.30  "
      ]
     },
     "execution_count": 3,
     "metadata": {},
     "output_type": "execute_result"
    }
   ],
   "source": [
    "pickups_brooklyn.head()"
   ]
  },
  {
   "cell_type": "code",
   "execution_count": null,
   "metadata": {
    "collapsed": true
   },
   "outputs": [],
   "source": []
  },
  {
   "cell_type": "code",
   "execution_count": 4,
   "metadata": {},
   "outputs": [
    {
     "data": {
      "text/plain": [
       "-74.016120910600009"
      ]
     },
     "execution_count": 4,
     "metadata": {},
     "output_type": "execute_result"
    }
   ],
   "source": [
    "pickups_brooklyn['pickup_longitude'].values[0]"
   ]
  },
  {
   "cell_type": "code",
   "execution_count": null,
   "metadata": {
    "collapsed": true
   },
   "outputs": [],
   "source": []
  },
  {
   "cell_type": "code",
   "execution_count": 5,
   "metadata": {},
   "outputs": [
    {
     "data": {
      "text/html": [
       "<div>\n",
       "<style>\n",
       "    .dataframe thead tr:only-child th {\n",
       "        text-align: right;\n",
       "    }\n",
       "\n",
       "    .dataframe thead th {\n",
       "        text-align: left;\n",
       "    }\n",
       "\n",
       "    .dataframe tbody tr th {\n",
       "        vertical-align: top;\n",
       "    }\n",
       "</style>\n",
       "<table border=\"1\" class=\"dataframe\">\n",
       "  <thead>\n",
       "    <tr style=\"text-align: right;\">\n",
       "      <th></th>\n",
       "      <th>Unnamed: 0</th>\n",
       "      <th>pickup_datetime</th>\n",
       "      <th>pickup_longitude</th>\n",
       "      <th>pickup_latitude</th>\n",
       "      <th>payment_type</th>\n",
       "      <th>fare_amount</th>\n",
       "      <th>tip_amount</th>\n",
       "      <th>tolls_amount</th>\n",
       "      <th>total_amount</th>\n",
       "      <th>passenger_count</th>\n",
       "      <th>trip_distance</th>\n",
       "    </tr>\n",
       "  </thead>\n",
       "  <tbody>\n",
       "    <tr>\n",
       "      <th>0</th>\n",
       "      <td>20</td>\n",
       "      <td>2016-06-09 21:06:38</td>\n",
       "      <td>-74.016121</td>\n",
       "      <td>40.710899</td>\n",
       "      <td>1</td>\n",
       "      <td>5.0</td>\n",
       "      <td>2.00</td>\n",
       "      <td>0.0</td>\n",
       "      <td>8.30</td>\n",
       "      <td>1</td>\n",
       "      <td>0.70</td>\n",
       "    </tr>\n",
       "    <tr>\n",
       "      <th>1</th>\n",
       "      <td>60</td>\n",
       "      <td>2016-06-09 21:09:53</td>\n",
       "      <td>-74.008247</td>\n",
       "      <td>40.711269</td>\n",
       "      <td>1</td>\n",
       "      <td>10.0</td>\n",
       "      <td>3.39</td>\n",
       "      <td>0.0</td>\n",
       "      <td>14.69</td>\n",
       "      <td>1</td>\n",
       "      <td>2.02</td>\n",
       "    </tr>\n",
       "    <tr>\n",
       "      <th>2</th>\n",
       "      <td>71</td>\n",
       "      <td>2016-06-09 21:09:55</td>\n",
       "      <td>-74.016251</td>\n",
       "      <td>40.711048</td>\n",
       "      <td>1</td>\n",
       "      <td>19.0</td>\n",
       "      <td>4.06</td>\n",
       "      <td>0.0</td>\n",
       "      <td>24.36</td>\n",
       "      <td>1</td>\n",
       "      <td>5.56</td>\n",
       "    </tr>\n",
       "    <tr>\n",
       "      <th>3</th>\n",
       "      <td>124</td>\n",
       "      <td>2016-06-09 21:06:00</td>\n",
       "      <td>-74.003128</td>\n",
       "      <td>40.706345</td>\n",
       "      <td>1</td>\n",
       "      <td>20.0</td>\n",
       "      <td>2.20</td>\n",
       "      <td>0.0</td>\n",
       "      <td>23.50</td>\n",
       "      <td>1</td>\n",
       "      <td>4.20</td>\n",
       "    </tr>\n",
       "    <tr>\n",
       "      <th>4</th>\n",
       "      <td>139</td>\n",
       "      <td>2016-06-09 21:06:02</td>\n",
       "      <td>-73.987724</td>\n",
       "      <td>40.700386</td>\n",
       "      <td>1</td>\n",
       "      <td>11.5</td>\n",
       "      <td>1.00</td>\n",
       "      <td>0.0</td>\n",
       "      <td>13.80</td>\n",
       "      <td>1</td>\n",
       "      <td>2.30</td>\n",
       "    </tr>\n",
       "  </tbody>\n",
       "</table>\n",
       "</div>"
      ],
      "text/plain": [
       "   Unnamed: 0     pickup_datetime  pickup_longitude  pickup_latitude  \\\n",
       "0          20 2016-06-09 21:06:38        -74.016121        40.710899   \n",
       "1          60 2016-06-09 21:09:53        -74.008247        40.711269   \n",
       "2          71 2016-06-09 21:09:55        -74.016251        40.711048   \n",
       "3         124 2016-06-09 21:06:00        -74.003128        40.706345   \n",
       "4         139 2016-06-09 21:06:02        -73.987724        40.700386   \n",
       "\n",
       "   payment_type  fare_amount  tip_amount  tolls_amount  total_amount  \\\n",
       "0             1          5.0        2.00           0.0          8.30   \n",
       "1             1         10.0        3.39           0.0         14.69   \n",
       "2             1         19.0        4.06           0.0         24.36   \n",
       "3             1         20.0        2.20           0.0         23.50   \n",
       "4             1         11.5        1.00           0.0         13.80   \n",
       "\n",
       "   passenger_count  trip_distance  \n",
       "0                1           0.70  \n",
       "1                1           2.02  \n",
       "2                1           5.56  \n",
       "3                1           4.20  \n",
       "4                1           2.30  "
      ]
     },
     "execution_count": 5,
     "metadata": {},
     "output_type": "execute_result"
    }
   ],
   "source": [
    "pickups_brooklyn.head()"
   ]
  },
  {
   "cell_type": "code",
   "execution_count": 6,
   "metadata": {},
   "outputs": [
    {
     "data": {
      "text/plain": [
       "40.710899353000002"
      ]
     },
     "execution_count": 6,
     "metadata": {},
     "output_type": "execute_result"
    }
   ],
   "source": [
    "pickups_brooklyn.pickup_latitude.values[0]"
   ]
  },
  {
   "cell_type": "code",
   "execution_count": 7,
   "metadata": {},
   "outputs": [
    {
     "data": {
      "text/plain": [
       "<matplotlib.collections.PathCollection at 0x117f724a8>"
      ]
     },
     "execution_count": 7,
     "metadata": {},
     "output_type": "execute_result"
    },
    {
     "data": {
      "image/png": "[encoded data removed]",
      "text/plain": [
       "<matplotlib.figure.Figure at 0x113442c88>"
      ]
     },
     "metadata": {},
     "output_type": "display_data"
    }
   ],
   "source": [
    "plt.scatter(pickups_brooklyn.pickup_longitude, pickups_brooklyn.pickup_latitude, s=0.1)"
   ]
  },
  {
   "cell_type": "code",
   "execution_count": 8,
   "metadata": {
    "collapsed": true
   },
   "outputs": [],
   "source": [
    "#plt.show()"
   ]
  },
  {
   "cell_type": "code",
   "execution_count": 9,
   "metadata": {
    "collapsed": true
   },
   "outputs": [],
   "source": [
    "def time_of_day(hour):\n",
    "    if hour<6:\n",
    "        return \"night\"\n",
    "    elif hour<10:\n",
    "        return \"morning rush\"\n",
    "    elif hour<16:\n",
    "        return \"daytime\"\n",
    "    elif hour<19:\n",
    "        return \"evening_rush\"\n",
    "    else:\n",
    "        return \"night\""
   ]
  },
  {
   "cell_type": "code",
   "execution_count": 10,
   "metadata": {
    "collapsed": true
   },
   "outputs": [],
   "source": [
    "pickups_brooklyn['time_of_day'] = [time_of_day(x) for x in pickups_brooklyn['pickup_datetime'].dt.hour]"
   ]
  },
  {
   "cell_type": "code",
   "execution_count": 11,
   "metadata": {},
   "outputs": [
    {
     "data": {
      "text/html": [
       "<div>\n",
       "<style>\n",
       "    .dataframe thead tr:only-child th {\n",
       "        text-align: right;\n",
       "    }\n",
       "\n",
       "    .dataframe thead th {\n",
       "        text-align: left;\n",
       "    }\n",
       "\n",
       "    .dataframe tbody tr th {\n",
       "        vertical-align: top;\n",
       "    }\n",
       "</style>\n",
       "<table border=\"1\" class=\"dataframe\">\n",
       "  <thead>\n",
       "    <tr style=\"text-align: right;\">\n",
       "      <th></th>\n",
       "      <th>Unnamed: 0</th>\n",
       "      <th>pickup_datetime</th>\n",
       "      <th>pickup_longitude</th>\n",
       "      <th>pickup_latitude</th>\n",
       "      <th>payment_type</th>\n",
       "      <th>fare_amount</th>\n",
       "      <th>tip_amount</th>\n",
       "      <th>tolls_amount</th>\n",
       "      <th>total_amount</th>\n",
       "      <th>passenger_count</th>\n",
       "      <th>trip_distance</th>\n",
       "      <th>time_of_day</th>\n",
       "    </tr>\n",
       "  </thead>\n",
       "  <tbody>\n",
       "    <tr>\n",
       "      <th>0</th>\n",
       "      <td>20</td>\n",
       "      <td>2016-06-09 21:06:38</td>\n",
       "      <td>-74.016121</td>\n",
       "      <td>40.710899</td>\n",
       "      <td>1</td>\n",
       "      <td>5.0</td>\n",
       "      <td>2.00</td>\n",
       "      <td>0.0</td>\n",
       "      <td>8.30</td>\n",
       "      <td>1</td>\n",
       "      <td>0.70</td>\n",
       "      <td>night</td>\n",
       "    </tr>\n",
       "    <tr>\n",
       "      <th>1</th>\n",
       "      <td>60</td>\n",
       "      <td>2016-06-09 21:09:53</td>\n",
       "      <td>-74.008247</td>\n",
       "      <td>40.711269</td>\n",
       "      <td>1</td>\n",
       "      <td>10.0</td>\n",
       "      <td>3.39</td>\n",
       "      <td>0.0</td>\n",
       "      <td>14.69</td>\n",
       "      <td>1</td>\n",
       "      <td>2.02</td>\n",
       "      <td>night</td>\n",
       "    </tr>\n",
       "    <tr>\n",
       "      <th>2</th>\n",
       "      <td>71</td>\n",
       "      <td>2016-06-09 21:09:55</td>\n",
       "      <td>-74.016251</td>\n",
       "      <td>40.711048</td>\n",
       "      <td>1</td>\n",
       "      <td>19.0</td>\n",
       "      <td>4.06</td>\n",
       "      <td>0.0</td>\n",
       "      <td>24.36</td>\n",
       "      <td>1</td>\n",
       "      <td>5.56</td>\n",
       "      <td>night</td>\n",
       "    </tr>\n",
       "    <tr>\n",
       "      <th>3</th>\n",
       "      <td>124</td>\n",
       "      <td>2016-06-09 21:06:00</td>\n",
       "      <td>-74.003128</td>\n",
       "      <td>40.706345</td>\n",
       "      <td>1</td>\n",
       "      <td>20.0</td>\n",
       "      <td>2.20</td>\n",
       "      <td>0.0</td>\n",
       "      <td>23.50</td>\n",
       "      <td>1</td>\n",
       "      <td>4.20</td>\n",
       "      <td>night</td>\n",
       "    </tr>\n",
       "    <tr>\n",
       "      <th>4</th>\n",
       "      <td>139</td>\n",
       "      <td>2016-06-09 21:06:02</td>\n",
       "      <td>-73.987724</td>\n",
       "      <td>40.700386</td>\n",
       "      <td>1</td>\n",
       "      <td>11.5</td>\n",
       "      <td>1.00</td>\n",
       "      <td>0.0</td>\n",
       "      <td>13.80</td>\n",
       "      <td>1</td>\n",
       "      <td>2.30</td>\n",
       "      <td>night</td>\n",
       "    </tr>\n",
       "  </tbody>\n",
       "</table>\n",
       "</div>"
      ],
      "text/plain": [
       "   Unnamed: 0     pickup_datetime  pickup_longitude  pickup_latitude  \\\n",
       "0          20 2016-06-09 21:06:38        -74.016121        40.710899   \n",
       "1          60 2016-06-09 21:09:53        -74.008247        40.711269   \n",
       "2          71 2016-06-09 21:09:55        -74.016251        40.711048   \n",
       "3         124 2016-06-09 21:06:00        -74.003128        40.706345   \n",
       "4         139 2016-06-09 21:06:02        -73.987724        40.700386   \n",
       "\n",
       "   payment_type  fare_amount  tip_amount  tolls_amount  total_amount  \\\n",
       "0             1          5.0        2.00           0.0          8.30   \n",
       "1             1         10.0        3.39           0.0         14.69   \n",
       "2             1         19.0        4.06           0.0         24.36   \n",
       "3             1         20.0        2.20           0.0         23.50   \n",
       "4             1         11.5        1.00           0.0         13.80   \n",
       "\n",
       "   passenger_count  trip_distance time_of_day  \n",
       "0                1           0.70       night  \n",
       "1                1           2.02       night  \n",
       "2                1           5.56       night  \n",
       "3                1           4.20       night  \n",
       "4                1           2.30       night  "
      ]
     },
     "execution_count": 11,
     "metadata": {},
     "output_type": "execute_result"
    }
   ],
   "source": [
    "pickups_brooklyn.head()"
   ]
  },
  {
   "cell_type": "code",
   "execution_count": 12,
   "metadata": {},
   "outputs": [
    {
     "data": {
      "text/plain": [
       "array(['daytime', 'evening_rush', 'morning rush', 'night'], dtype=object)"
      ]
     },
     "execution_count": 12,
     "metadata": {},
     "output_type": "execute_result"
    }
   ],
   "source": [
    "np.unique(pickups_brooklyn.time_of_day.values)"
   ]
  },
  {
   "cell_type": "code",
   "execution_count": 13,
   "metadata": {
    "collapsed": true
   },
   "outputs": [],
   "source": [
    "times_of_day = [\"night\", \"morning rush\", \"daytime\", \"evening_rush\"]"
   ]
  },
  {
   "cell_type": "code",
   "execution_count": 14,
   "metadata": {},
   "outputs": [
    {
     "name": "stdout",
     "output_type": "stream",
     "text": [
      "minimum lon: 40.648311615\n",
      "maximum lon: 40.7115974426\n",
      "minimum lat: -74.0235214233\n",
      "maximum lat: -73.9177093506\n"
     ]
    }
   ],
   "source": [
    "pickups_brooklyn_tod = {}\n",
    "x_tod = {}\n",
    "y_tod = {}\n",
    "coords_tod = {}\n",
    "min_lon = []\n",
    "max_lon = []\n",
    "min_lat = []\n",
    "max_lat = []\n",
    "for time in times_of_day:\n",
    "    pickups_brooklyn_tod[time] = pickups_brooklyn[pickups_brooklyn['time_of_day'] == time]\n",
    "    y_tod[time] = pickups_brooklyn_tod[time]['pickup_latitude'].values\n",
    "    x_tod[time] = pickups_brooklyn_tod[time]['pickup_longitude'].values\n",
    "    min_lat.append(min(x_tod[time]))\n",
    "    max_lat.append(max(x_tod[time]))\n",
    "    min_lon.append(min(y_tod[time]))\n",
    "    max_lon.append(max(y_tod[time]))\n",
    "\n",
    "print(\"minimum lon: \"+ str(min(min_lon)))\n",
    "print(\"maximum lon: \"+ str(max(max_lon)))\n",
    "print(\"minimum lat: \"+ str(min(min_lat)))\n",
    "print(\"maximum lat: \"+ str(max(max_lat)))\n"
   ]
  },
  {
   "cell_type": "code",
   "execution_count": 15,
   "metadata": {},
   "outputs": [
    {
     "name": "stdout",
     "output_type": "stream",
     "text": [
      "188919\n",
      "<class 'list'>\n",
      "65202\n",
      "<class 'list'>\n",
      "105150\n",
      "<class 'list'>\n",
      "57256\n",
      "<class 'list'>\n"
     ]
    }
   ],
   "source": [
    "for time in times_of_day:\n",
    "    print(len(x_tod[time]))\n",
    "    coords_tod[time] = []\n",
    "    print(type(coords_tod[time]))\n",
    "    for i in range(len(x_tod[time])):\n",
    "        coords_tod[time].append([x_tod[time][i], y_tod[time][i]])"
   ]
  },
  {
   "cell_type": "code",
   "execution_count": 16,
   "metadata": {},
   "outputs": [
    {
     "name": "stdout",
     "output_type": "stream",
     "text": [
      "[[-74.016120910600009, 40.710899353000002], [-74.008247375500005, 40.711269378699996], [-74.016250610399993, 40.711048126199998], [-74.003128051800005, 40.706344604499996], [-73.9877243042, 40.700386047399995], [-73.992584228500007, 40.6896362305], [-74.009445190400001, 40.710700988799999], [-73.977706909199995, 40.684486389200003], [-73.954879760699995, 40.710601806599996], [-74.004692077599998, 40.707168579099999]]\n"
     ]
    }
   ],
   "source": [
    "print(coords_tod['night'][:10])"
   ]
  },
  {
   "cell_type": "code",
   "execution_count": 17,
   "metadata": {
    "collapsed": true
   },
   "outputs": [],
   "source": [
    "df1 = pd.DataFrame(x_tod['night'], y_tod['night'], )"
   ]
  },
  {
   "cell_type": "code",
   "execution_count": 18,
   "metadata": {
    "collapsed": true
   },
   "outputs": [],
   "source": [
    "df1 = df1.reset_index()"
   ]
  },
  {
   "cell_type": "code",
   "execution_count": 19,
   "metadata": {
    "collapsed": true
   },
   "outputs": [],
   "source": [
    "dft = {}\n",
    "for time in times_of_day:\n",
    "    d = {'longitude_x': x_tod[time], 'latitude_y': y_tod[time]}\n",
    "    dft[time] = pd.DataFrame(d)"
   ]
  },
  {
   "cell_type": "code",
   "execution_count": 20,
   "metadata": {},
   "outputs": [
    {
     "data": {
      "text/html": [
       "<div>\n",
       "<style>\n",
       "    .dataframe thead tr:only-child th {\n",
       "        text-align: right;\n",
       "    }\n",
       "\n",
       "    .dataframe thead th {\n",
       "        text-align: left;\n",
       "    }\n",
       "\n",
       "    .dataframe tbody tr th {\n",
       "        vertical-align: top;\n",
       "    }\n",
       "</style>\n",
       "<table border=\"1\" class=\"dataframe\">\n",
       "  <thead>\n",
       "    <tr style=\"text-align: right;\">\n",
       "      <th></th>\n",
       "      <th>latitude_y</th>\n",
       "      <th>longitude_x</th>\n",
       "    </tr>\n",
       "  </thead>\n",
       "  <tbody>\n",
       "    <tr>\n",
       "      <th>0</th>\n",
       "      <td>40.710899</td>\n",
       "      <td>-74.016121</td>\n",
       "    </tr>\n",
       "    <tr>\n",
       "      <th>1</th>\n",
       "      <td>40.711269</td>\n",
       "      <td>-74.008247</td>\n",
       "    </tr>\n",
       "    <tr>\n",
       "      <th>2</th>\n",
       "      <td>40.711048</td>\n",
       "      <td>-74.016251</td>\n",
       "    </tr>\n",
       "    <tr>\n",
       "      <th>3</th>\n",
       "      <td>40.706345</td>\n",
       "      <td>-74.003128</td>\n",
       "    </tr>\n",
       "    <tr>\n",
       "      <th>4</th>\n",
       "      <td>40.700386</td>\n",
       "      <td>-73.987724</td>\n",
       "    </tr>\n",
       "  </tbody>\n",
       "</table>\n",
       "</div>"
      ],
      "text/plain": [
       "   latitude_y  longitude_x\n",
       "0   40.710899   -74.016121\n",
       "1   40.711269   -74.008247\n",
       "2   40.711048   -74.016251\n",
       "3   40.706345   -74.003128\n",
       "4   40.700386   -73.987724"
      ]
     },
     "execution_count": 20,
     "metadata": {},
     "output_type": "execute_result"
    }
   ],
   "source": [
    "dft['night'].head()"
   ]
  },
  {
   "cell_type": "code",
   "execution_count": null,
   "metadata": {
    "collapsed": true
   },
   "outputs": [],
   "source": []
  },
  {
   "cell_type": "code",
   "execution_count": 21,
   "metadata": {
    "collapsed": true
   },
   "outputs": [],
   "source": [
    "dft = {}\n",
    "for time in times_of_day:\n",
    "    \n",
    "    d = {'longitude_x': x_tod[time], 'latitude_y': y_tod[time]}\n",
    "    dft[time] = pd.DataFrame(d)"
   ]
  },
  {
   "cell_type": "code",
   "execution_count": null,
   "metadata": {},
   "outputs": [
    {
     "data": {
      "text/html": [
       "<div>\n",
       "<style>\n",
       "    .dataframe thead tr:only-child th {\n",
       "        text-align: right;\n",
       "    }\n",
       "\n",
       "    .dataframe thead th {\n",
       "        text-align: left;\n",
       "    }\n",
       "\n",
       "    .dataframe tbody tr th {\n",
       "        vertical-align: top;\n",
       "    }\n",
       "</style>\n",
       "<table border=\"1\" class=\"dataframe\">\n",
       "  <thead>\n",
       "    <tr style=\"text-align: right;\">\n",
       "      <th></th>\n",
       "      <th>latitude_y</th>\n",
       "      <th>longitude_x</th>\n",
       "    </tr>\n",
       "  </thead>\n",
       "  <tbody>\n",
       "    <tr>\n",
       "      <th>0</th>\n",
       "      <td>40.710899</td>\n",
       "      <td>-74.016121</td>\n",
       "    </tr>\n",
       "    <tr>\n",
       "      <th>1</th>\n",
       "      <td>40.711269</td>\n",
       "      <td>-74.008247</td>\n",
       "    </tr>\n",
       "    <tr>\n",
       "      <th>2</th>\n",
       "      <td>40.711048</td>\n",
       "      <td>-74.016251</td>\n",
       "    </tr>\n",
       "    <tr>\n",
       "      <th>3</th>\n",
       "      <td>40.706345</td>\n",
       "      <td>-74.003128</td>\n",
       "    </tr>\n",
       "    <tr>\n",
       "      <th>4</th>\n",
       "      <td>40.700386</td>\n",
       "      <td>-73.987724</td>\n",
       "    </tr>\n",
       "  </tbody>\n",
       "</table>\n",
       "</div>"
      ],
      "text/plain": [
       "   latitude_y  longitude_x\n",
       "0   40.710899   -74.016121\n",
       "1   40.711269   -74.008247\n",
       "2   40.711048   -74.016251\n",
       "3   40.706345   -74.003128\n",
       "4   40.700386   -73.987724"
      ]
     },
     "execution_count": 22,
     "metadata": {},
     "output_type": "execute_result"
    }
   ],
   "source": [
    "dft['night'].head()"
   ]
  },
  {
   "cell_type": "code",
   "execution_count": null,
   "metadata": {
    "collapsed": true
   },
   "outputs": [],
   "source": [
    "from sklearn.cluster import KMeans"
   ]
  },
  {
   "cell_type": "code",
   "execution_count": null,
   "metadata": {
    "collapsed": true
   },
   "outputs": [],
   "source": [
    "K=5\n",
    "k=KMeans(K)"
   ]
  },
  {
   "cell_type": "code",
   "execution_count": null,
   "metadata": {},
   "outputs": [],
   "source": [
    "dft['night'].head()"
   ]
  },
  {
   "cell_type": "code",
   "execution_count": null,
   "metadata": {},
   "outputs": [],
   "source": [
    "dft['night'].values"
   ]
  },
  {
   "cell_type": "code",
   "execution_count": null,
   "metadata": {},
   "outputs": [],
   "source": [
    "k.fit(dft['night'].values)"
   ]
  },
  {
   "cell_type": "code",
   "execution_count": null,
   "metadata": {
    "collapsed": true
   },
   "outputs": [],
   "source": [
    "dft['night']['kmeans_cluster'] = k.labels_"
   ]
  },
  {
   "cell_type": "code",
   "execution_count": null,
   "metadata": {},
   "outputs": [],
   "source": [
    "dft['night'].head()"
   ]
  },
  {
   "cell_type": "code",
   "execution_count": null,
   "metadata": {},
   "outputs": [],
   "source": [
    "import random\n",
    "from matplotlib import colors as mcolors\n",
    "\n",
    "num_colors=len(set(k.labels_))   #it's the number of different labels except for 1 (the -1 label)\n",
    "colors=list(mcolors.CSS4_COLORS.keys())  #found this by searching \"python color list\"\n",
    "cluster_colors=random.choices(colors, k=num_colors)\n",
    "print(cluster_colors)\n",
    "x_=[]\n",
    "y_=[]\n",
    "c_=[]\n",
    "for label, x, y in zip(k.labels_, dft['night']['longitude_x'].values, dft['night']['latitude_y'].values):\n",
    "    if label==-1:\n",
    "        continue\n",
    "    x_.append(x)\n",
    "    y_.append(y)\n",
    "    c_.append(cluster_colors[label])\n",
    "    #plt.figure(figsize=(18, 12))\n",
    "plt.scatter(x_,y_,s=0.55,c=c_)"
   ]
  },
  {
   "cell_type": "code",
   "execution_count": null,
   "metadata": {},
   "outputs": [],
   "source": [
    "dft['night'].head()"
   ]
  },
  {
   "cell_type": "code",
   "execution_count": null,
   "metadata": {
    "collapsed": true
   },
   "outputs": [],
   "source": [
    "from sklearn.metrics.pairwise import pairwise_distances"
   ]
  },
  {
   "cell_type": "code",
   "execution_count": null,
   "metadata": {
    "collapsed": true
   },
   "outputs": [],
   "source": [
    "dft_sample = {}\n",
    "dft_sample['night'] = dft['night'].sample(n=10000)"
   ]
  },
  {
   "cell_type": "code",
   "execution_count": null,
   "metadata": {
    "scrolled": true
   },
   "outputs": [],
   "source": [
    "dft_sample['night']"
   ]
  },
  {
   "cell_type": "code",
   "execution_count": null,
   "metadata": {
    "collapsed": true
   },
   "outputs": [],
   "source": [
    "dft_sample['night']['coord'] = np.nan"
   ]
  },
  {
   "cell_type": "code",
   "execution_count": null,
   "metadata": {},
   "outputs": [],
   "source": [
    "dft_sample['night'].head()"
   ]
  },
  {
   "cell_type": "code",
   "execution_count": null,
   "metadata": {
    "collapsed": true
   },
   "outputs": [],
   "source": [
    "sampleCoords = {}\n",
    "sampleCoords['night'] = []\n",
    "for x, y in zip(dft_sample['night']['longitude_x'].values, dft_sample['night']['latitude_y'].values):\n",
    "    coords = [x, y]\n",
    "    sampleCoords['night'].append(coords)\n",
    "dft_sample['night']['coord'] = sampleCoords['night']"
   ]
  },
  {
   "cell_type": "code",
   "execution_count": null,
   "metadata": {
    "collapsed": true
   },
   "outputs": [],
   "source": []
  },
  {
   "cell_type": "code",
   "execution_count": null,
   "metadata": {
    "collapsed": true
   },
   "outputs": [],
   "source": []
  },
  {
   "cell_type": "code",
   "execution_count": null,
   "metadata": {
    "collapsed": true
   },
   "outputs": [],
   "source": [
    "coords = []\n",
    "for i in range(len(dft_sample['night']['longitude_x'].values)):\n",
    "    coords.append([dft_sample['night']['longitude_x'].values[i], dft_sample['night']['latitude_y'].values[i]])"
   ]
  },
  {
   "cell_type": "code",
   "execution_count": null,
   "metadata": {
    "collapsed": true
   },
   "outputs": [],
   "source": []
  },
  {
   "cell_type": "code",
   "execution_count": null,
   "metadata": {
    "collapsed": true
   },
   "outputs": [],
   "source": [
    "\n",
    "diest = pairwise_distances(coords, metric='euclidean', n_jobs=1)"
   ]
  },
  {
   "cell_type": "code",
   "execution_count": null,
   "metadata": {},
   "outputs": [],
   "source": [
    "diest"
   ]
  },
  {
   "cell_type": "code",
   "execution_count": null,
   "metadata": {},
   "outputs": [],
   "source": [
    "dft_sample['night'].head()"
   ]
  },
  {
   "cell_type": "code",
   "execution_count": null,
   "metadata": {
    "collapsed": true
   },
   "outputs": [],
   "source": [
    "from sklearn.metrics import silhouette_score"
   ]
  },
  {
   "cell_type": "code",
   "execution_count": null,
   "metadata": {},
   "outputs": [],
   "source": [
    "silhouette_avg = silhouette_score(diest, dft_sample['night']['kmeans_cluster'], metric=\"precomputed\")"
   ]
  },
  {
   "cell_type": "code",
   "execution_count": null,
   "metadata": {},
   "outputs": [],
   "source": [
    "silhouette_avg"
   ]
  },
  {
   "cell_type": "code",
   "execution_count": null,
   "metadata": {},
   "outputs": [],
   "source": [
    "plt.scatter(dft['night']['longitude_x'].values, dft['night']['latitude_y'].values, s=0.5, )"
   ]
  },
  {
   "cell_type": "code",
   "execution_count": null,
   "metadata": {},
   "outputs": [],
   "source": [
    "plt.scatter(x_tod['night'], y_tod['night'], s=0.5)"
   ]
  },
  {
   "cell_type": "code",
   "execution_count": null,
   "metadata": {
    "collapsed": true
   },
   "outputs": [],
   "source": [
    "dft['night']['cluster']=k.fit_predict(dft['night'])"
   ]
  },
  {
   "cell_type": "code",
   "execution_count": null,
   "metadata": {},
   "outputs": [],
   "source": [
    "type(x_tod['night'][0])"
   ]
  },
  {
   "cell_type": "code",
   "execution_count": null,
   "metadata": {
    "collapsed": true
   },
   "outputs": [],
   "source": [
    "#axes = plt.scatter(x_tod[\"night\"], y_tod[\"night\"]).axes\n",
    "#print(plt.Axes.get_ylim(axes))\n",
    "#print(plt.Axes.get_xlim(axes))"
   ]
  },
  {
   "cell_type": "code",
   "execution_count": null,
   "metadata": {},
   "outputs": [],
   "source": [
    "plt.scatter(x_tod[\"daytime\"], y_tod[\"daytime\"], s=0.5)"
   ]
  },
  {
   "cell_type": "code",
   "execution_count": null,
   "metadata": {},
   "outputs": [],
   "source": [
    "plt.scatter(x_tod[\"evening_rush\"], y_tod[\"evening_rush\"], s=0.5)"
   ]
  },
  {
   "cell_type": "code",
   "execution_count": null,
   "metadata": {},
   "outputs": [],
   "source": [
    "plt.scatter(x_tod['night'], y_tod['night'], s=0.5)"
   ]
  },
  {
   "cell_type": "raw",
   "metadata": {
    "collapsed": true
   },
   "source": [
    "Perform Clustering on the locations for each time of the day"
   ]
  },
  {
   "cell_type": "code",
   "execution_count": null,
   "metadata": {
    "collapsed": true
   },
   "outputs": [],
   "source": [
    "# Density based and K-Means"
   ]
  },
  {
   "cell_type": "code",
   "execution_count": null,
   "metadata": {
    "collapsed": true
   },
   "outputs": [],
   "source": [
    "def createTrainAndTestSet(x, y):\n",
    "    numTrain = len(x)*2/3\n",
    "    x_train = x[:numTrain]\n",
    "    y_train = y[numTrain:]\n",
    "    x_test = x[:numTrain]\n",
    "    y_test = y[numTrain:]"
   ]
  },
  {
   "cell_type": "code",
   "execution_count": null,
   "metadata": {
    "collapsed": true
   },
   "outputs": [],
   "source": [
    "# examine tips"
   ]
  },
  {
   "cell_type": "code",
   "execution_count": null,
   "metadata": {},
   "outputs": [],
   "source": [
    "pickups_brooklyn.head()"
   ]
  },
  {
   "cell_type": "code",
   "execution_count": null,
   "metadata": {
    "collapsed": true
   },
   "outputs": [],
   "source": [
    "def calculateTipsPerc(fare, tips):\n",
    "    return tips/fare"
   ]
  },
  {
   "cell_type": "code",
   "execution_count": null,
   "metadata": {},
   "outputs": [],
   "source": [
    "fares = pickups_brooklyn['fare_amount'].unique()\n",
    "fares.sort()\n",
    "fares"
   ]
  },
  {
   "cell_type": "code",
   "execution_count": null,
   "metadata": {
    "collapsed": true
   },
   "outputs": [],
   "source": [
    "pickups_brooklyn = pickups_brooklyn[pickups_brooklyn['fare_amount'] >0]"
   ]
  },
  {
   "cell_type": "code",
   "execution_count": null,
   "metadata": {},
   "outputs": [],
   "source": [
    "fares = pickups_brooklyn['fare_amount'].unique()\n",
    "fares.sort()\n",
    "fares\n",
    "# There are fares with negative values or value 0, remove these rows?"
   ]
  },
  {
   "cell_type": "code",
   "execution_count": null,
   "metadata": {},
   "outputs": [],
   "source": [
    "tipsPerc = []\n",
    "pickups_brooklyn['tips_perc'] = np.nan\n",
    "for x, y in zip(pickups_brooklyn['fare_amount'].values, pickups_brooklyn['tip_amount'].values):\n",
    "    tipsPerc.append(calculateTipsPerc(x, y))\n",
    "pickups_brooklyn['tips_perc'] = tipsPerc"
   ]
  },
  {
   "cell_type": "code",
   "execution_count": null,
   "metadata": {},
   "outputs": [],
   "source": [
    "# plot histogram of tipsPerc\n",
    "#np.histogram(pickups_brooklyn['tips_perc'])#.hist(bins=0.5).plot()"
   ]
  },
  {
   "cell_type": "code",
   "execution_count": null,
   "metadata": {},
   "outputs": [],
   "source": [
    "plt.hist(pickups_brooklyn['tips_perc'], bins='auto')  # arguments are passed to np.histogram\n",
    "plt.title(\"Histogram with 'auto' bins\")\n",
    "plt.show()"
   ]
  },
  {
   "cell_type": "code",
   "execution_count": null,
   "metadata": {},
   "outputs": [],
   "source": [
    "plt.hist(pickups_brooklyn['tips_perc'], bins=10)"
   ]
  },
  {
   "cell_type": "code",
   "execution_count": null,
   "metadata": {},
   "outputs": [],
   "source": [
    "pickups_brooklyn['tips_perc'].unique()"
   ]
  },
  {
   "cell_type": "code",
   "execution_count": null,
   "metadata": {
    "collapsed": true
   },
   "outputs": [],
   "source": []
  }
 ],
 "metadata": {
  "kernelspec": {
   "display_name": "Python 3",
   "language": "python",
   "name": "python3"
  },
  "language_info": {
   "codemirror_mode": {
    "name": "ipython",
    "version": 3
   },
   "file_extension": ".py",
   "mimetype": "text/x-python",
   "name": "python",
   "nbconvert_exporter": "python",
   "pygments_lexer": "ipython3",
   "version": "3.6.3"
  }
 },
 "nbformat": 4,
 "nbformat_minor": 2
}
